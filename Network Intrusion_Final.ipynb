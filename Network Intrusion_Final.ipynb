{
 "cells": [
  {
   "cell_type": "markdown",
   "metadata": {},
   "source": [
    "<h1><center>Network Anomaly Detection using Machine Learning</center></h1>"
   ]
  },
  {
   "cell_type": "code",
   "execution_count": 1,
   "metadata": {},
   "outputs": [
    {
     "data": {
      "text/html": [
       "<script>\n",
       "  function code_toggle() {\n",
       "    if (code_shown){\n",
       "      $('div.input').hide('500');\n",
       "      $('#toggleButton').val('Show Code')\n",
       "    } else {\n",
       "      $('div.input').show('500');\n",
       "      $('#toggleButton').val('Hide Code')\n",
       "    }\n",
       "    code_shown = !code_shown\n",
       "  }\n",
       "\n",
       "  $( document ).ready(function(){\n",
       "    code_shown=false;\n",
       "    $('div.input').hide()\n",
       "  });\n",
       "</script>\n",
       "<form action=\"javascript:code_toggle()\"><input type=\"submit\" id=\"toggleButton\" value=\"Show Code\"></form>\n"
      ],
      "text/plain": [
       "<IPython.core.display.HTML object>"
      ]
     },
     "execution_count": 1,
     "metadata": {},
     "output_type": "execute_result"
    }
   ],
   "source": [
    "from IPython.display import HTML\n",
    "HTML('''<script>\n",
    "  function code_toggle() {\n",
    "    if (code_shown){\n",
    "      $('div.input').hide('500');\n",
    "      $('#toggleButton').val('Show Code')\n",
    "    } else {\n",
    "      $('div.input').show('500');\n",
    "      $('#toggleButton').val('Hide Code')\n",
    "    }\n",
    "    code_shown = !code_shown\n",
    "  }\n",
    "\n",
    "  $( document ).ready(function(){\n",
    "    code_shown=false;\n",
    "    $('div.input').hide()\n",
    "  });\n",
    "</script>\n",
    "<form action=\"javascript:code_toggle()\"><input type=\"submit\" id=\"toggleButton\" value=\"Show Code\"></form>\n",
    "''')"
   ]
  },
  {
   "cell_type": "markdown",
   "metadata": {},
   "source": [
    "<center><b>by</b></center>\n",
    "<center>Sheldon Rodrigues (sheldonr) </center>"
   ]
  },
  {
   "cell_type": "markdown",
   "metadata": {
    "toc": true
   },
   "source": [
    "<h1>Table of Contents<span class=\"tocSkip\"></span></h1>\n",
    "<div class=\"toc\"><ul class=\"toc-item\"><li><span><a href=\"#Network-Anomaly-Detection-using-Machine-Learning\" data-toc-modified-id=\"Network-Anomaly-Detection-using-Machine-Learning-1\"><span class=\"toc-item-num\">1&nbsp;&nbsp;</span><center>Network Anomaly Detection using Machine Learning</center></a></span><ul class=\"toc-item\"><li><span><a href=\"#Introduction-and-Motivation:\" data-toc-modified-id=\"Introduction-and-Motivation:-1.1\"><span class=\"toc-item-num\">1.1&nbsp;&nbsp;</span>Introduction and Motivation:</a></span></li><li><span><a href=\"#Dataset\" data-toc-modified-id=\"Dataset-1.2\"><span class=\"toc-item-num\">1.2&nbsp;&nbsp;</span>Dataset</a></span></li><li><span><a href=\"#Data-Cleaning-Steps\" data-toc-modified-id=\"Data-Cleaning-Steps-1.3\"><span class=\"toc-item-num\">1.3&nbsp;&nbsp;</span>Data Cleaning Steps</a></span></li><li><span><a href=\"#Feature-Engineering\" data-toc-modified-id=\"Feature-Engineering-1.4\"><span class=\"toc-item-num\">1.4&nbsp;&nbsp;</span>Feature Engineering</a></span></li><li><span><a href=\"#One-Hot-Encoding\" data-toc-modified-id=\"One-Hot-Encoding-1.5\"><span class=\"toc-item-num\">1.5&nbsp;&nbsp;</span>One-Hot Encoding</a></span></li><li><span><a href=\"#Exploratory-Data-Analysis\" data-toc-modified-id=\"Exploratory-Data-Analysis-1.6\"><span class=\"toc-item-num\">1.6&nbsp;&nbsp;</span>Exploratory Data Analysis</a></span><ul class=\"toc-item\"><li><span><a href=\"#Visualization-1-:-Count-of-Benign-v/s-Attack\" data-toc-modified-id=\"Visualization-1-:-Count-of-Benign-v/s-Attack-1.6.1\"><span class=\"toc-item-num\">1.6.1&nbsp;&nbsp;</span>Visualization 1 : Count of Benign v/s Attack</a></span></li><li><span><a href=\"#Visualization-2-:-Distribution-of-Benign-v/s-Attack-source-bytes\" data-toc-modified-id=\"Visualization-2-:-Distribution-of-Benign-v/s-Attack-source-bytes-1.6.2\"><span class=\"toc-item-num\">1.6.2&nbsp;&nbsp;</span>Visualization 2 : Distribution of Benign v/s Attack source bytes</a></span></li><li><span><a href=\"#Visualization-3-:-Distribution-of-Benign-v/s-Attack-Destination-bytes\" data-toc-modified-id=\"Visualization-3-:-Distribution-of-Benign-v/s-Attack-Destination-bytes-1.6.3\"><span class=\"toc-item-num\">1.6.3&nbsp;&nbsp;</span>Visualization 3 : Distribution of Benign v/s Attack Destination bytes</a></span></li><li><span><a href=\"#Visualization-4-:-Count-of-service-types-for-Benign-v/s-Attack-records\" data-toc-modified-id=\"Visualization-4-:-Count-of-service-types-for-Benign-v/s-Attack-records-1.6.4\"><span class=\"toc-item-num\">1.6.4&nbsp;&nbsp;</span>Visualization 4 : Count of service types for Benign v/s Attack records</a></span></li><li><span><a href=\"#Visualization-5-:-Count-of-Flags-for-Benign-v/s-Attack-records\" data-toc-modified-id=\"Visualization-5-:-Count-of-Flags-for-Benign-v/s-Attack-records-1.6.5\"><span class=\"toc-item-num\">1.6.5&nbsp;&nbsp;</span>Visualization 5 : Count of Flags for Benign v/s Attack records</a></span></li><li><span><a href=\"#Visualization-6-:-Count-of-Protocol-Types-for-Benign-v/s-Attack-records\" data-toc-modified-id=\"Visualization-6-:-Count-of-Protocol-Types-for-Benign-v/s-Attack-records-1.6.6\"><span class=\"toc-item-num\">1.6.6&nbsp;&nbsp;</span>Visualization 6 : Count of Protocol Types for Benign v/s Attack records</a></span></li><li><span><a href=\"#Visualization-7-:-Correlation-Plot\" data-toc-modified-id=\"Visualization-7-:-Correlation-Plot-1.6.7\"><span class=\"toc-item-num\">1.6.7&nbsp;&nbsp;</span>Visualization 7 : Correlation Plot</a></span></li></ul></li><li><span><a href=\"#Machine-Learning-Models\" data-toc-modified-id=\"Machine-Learning-Models-1.7\"><span class=\"toc-item-num\">1.7&nbsp;&nbsp;</span>Machine Learning Models</a></span><ul class=\"toc-item\"><li><span><a href=\"#Supervised-Learning---Comparision-of-Weak-Learners-and-Ensemble-Methods\" data-toc-modified-id=\"Supervised-Learning---Comparision-of-Weak-Learners-and-Ensemble-Methods-1.7.1\"><span class=\"toc-item-num\">1.7.1&nbsp;&nbsp;</span>Supervised Learning - Comparision of Weak Learners and Ensemble Methods</a></span><ul class=\"toc-item\"><li><span><a href=\"#Test-Train-split\" data-toc-modified-id=\"Test-Train-split-1.7.1.1\"><span class=\"toc-item-num\">1.7.1.1&nbsp;&nbsp;</span>Test-Train split</a></span></li><li><span><a href=\"#SMOTE---Synthetic-Minority-Over-sampling-Technique\" data-toc-modified-id=\"SMOTE---Synthetic-Minority-Over-sampling-Technique-1.7.1.2\"><span class=\"toc-item-num\">1.7.1.2&nbsp;&nbsp;</span>SMOTE - Synthetic Minority Over-sampling Technique</a></span></li><li><span><a href=\"#Cross-Validation-for-Logistic-Regression,-Naive-Bayes,-Random-Forest-and-Ada-Boost\" data-toc-modified-id=\"Cross-Validation-for-Logistic-Regression,-Naive-Bayes,-Random-Forest-and-Ada-Boost-1.7.1.3\"><span class=\"toc-item-num\">1.7.1.3&nbsp;&nbsp;</span>Cross-Validation for Logistic Regression, Naive Bayes, Random Forest and Ada Boost</a></span></li><li><span><a href=\"#Testing-our-models\" data-toc-modified-id=\"Testing-our-models-1.7.1.4\"><span class=\"toc-item-num\">1.7.1.4&nbsp;&nbsp;</span>Testing our models</a></span></li><li><span><a href=\"#ROC-curve\" data-toc-modified-id=\"ROC-curve-1.7.1.5\"><span class=\"toc-item-num\">1.7.1.5&nbsp;&nbsp;</span>ROC curve</a></span></li><li><span><a href=\"#Precision-Recall-curve\" data-toc-modified-id=\"Precision-Recall-curve-1.7.1.6\"><span class=\"toc-item-num\">1.7.1.6&nbsp;&nbsp;</span>Precision-Recall curve</a></span></li><li><span><a href=\"#Relative-importance-of-features\" data-toc-modified-id=\"Relative-importance-of-features-1.7.1.7\"><span class=\"toc-item-num\">1.7.1.7&nbsp;&nbsp;</span>Relative importance of features</a></span></li></ul></li><li><span><a href=\"#Unsupervised-Learning---Hierarchial-Clustering-and-K-Means-Clustering\" data-toc-modified-id=\"Unsupervised-Learning---Hierarchial-Clustering-and-K-Means-Clustering-1.7.2\"><span class=\"toc-item-num\">1.7.2&nbsp;&nbsp;</span>Unsupervised Learning - Hierarchial Clustering and K-Means Clustering</a></span><ul class=\"toc-item\"><li><span><a href=\"#Pre-processing-Steps\" data-toc-modified-id=\"Pre-processing-Steps-1.7.2.1\"><span class=\"toc-item-num\">1.7.2.1&nbsp;&nbsp;</span>Pre-processing Steps</a></span></li><li><span><a href=\"#Clustering\" data-toc-modified-id=\"Clustering-1.7.2.2\"><span class=\"toc-item-num\">1.7.2.2&nbsp;&nbsp;</span>Clustering</a></span></li><li><span><a href=\"#Hierarchial-Clustering\" data-toc-modified-id=\"Hierarchial-Clustering-1.7.2.3\"><span class=\"toc-item-num\">1.7.2.3&nbsp;&nbsp;</span>Hierarchial Clustering</a></span></li><li><span><a href=\"#K-Means-Clustering\" data-toc-modified-id=\"K-Means-Clustering-1.7.2.4\"><span class=\"toc-item-num\">1.7.2.4&nbsp;&nbsp;</span>K-Means Clustering</a></span></li><li><span><a href=\"#Viewing-the-different-cluster-sizes\" data-toc-modified-id=\"Viewing-the-different-cluster-sizes-1.7.2.5\"><span class=\"toc-item-num\">1.7.2.5&nbsp;&nbsp;</span>Viewing the different cluster sizes</a></span></li></ul></li></ul></li><li><span><a href=\"#Conclusion\" data-toc-modified-id=\"Conclusion-1.8\"><span class=\"toc-item-num\">1.8&nbsp;&nbsp;</span>Conclusion</a></span></li><li><span><a href=\"#Next-Steps\" data-toc-modified-id=\"Next-Steps-1.9\"><span class=\"toc-item-num\">1.9&nbsp;&nbsp;</span>Next Steps</a></span></li><li><span><a href=\"#References\" data-toc-modified-id=\"References-1.10\"><span class=\"toc-item-num\">1.10&nbsp;&nbsp;</span>References</a></span></li></ul></li></ul></div>"
   ]
  },
  {
   "cell_type": "markdown",
   "metadata": {},
   "source": [
    "## Introduction and Motivation:"
   ]
  },
  {
   "cell_type": "markdown",
   "metadata": {},
   "source": [
    "Given a group of events a meteor shower, birth of quadruplets and being struck by lightning how would one categorize them? These items are interesting in nature because of the fact they are rare and deviate from normal behavior. [1] These events are known as anomalies. \n",
    "\n",
    "In the digital era, we are connected by the internet. Although the internet has assisted in revolutionizing the quality of our lives, we often hear of network intrusions (Equifax, Yahoo email accounts) that wreck the normal functioning of an organization. \n",
    "\n",
    "In general, according to IBM an organization spends nearly 10% of its yearly revenue in securing its network. This fact led us to think that it becomes imperative that we have a robust system that could potentially identify and thwart such intrusions before they cause havoc.  Through this project we attempt to identify anomalies in networds and develop a model that could potentially prevent network attacks at an early stage. "
   ]
  },
  {
   "cell_type": "code",
   "execution_count": 1,
   "metadata": {},
   "outputs": [
    {
     "name": "stderr",
     "output_type": "stream",
     "text": [
      "C:\\Users\\SHELDON\\Anaconda3\\lib\\site-packages\\sklearn\\cross_validation.py:41: DeprecationWarning: This module was deprecated in version 0.18 in favor of the model_selection module into which all the refactored classes and functions are moved. Also note that the interface of the new CV iterators are different from that of this module. This module will be removed in 0.20.\n",
      "  \"This module will be removed in 0.20.\", DeprecationWarning)\n"
     ]
    }
   ],
   "source": [
    "import pandas as pd\n",
    "import seaborn as sns \n",
    "from matplotlib import pyplot as plt\n",
    "from imblearn.over_sampling import SMOTE\n",
    "from sklearn.linear_model import LogisticRegression\n",
    "from sklearn.naive_bayes import BernoulliNB\n",
    "from sklearn.ensemble import RandomForestClassifier\n",
    "from sklearn.ensemble import AdaBoostClassifier\n",
    "from sklearn.cross_validation import train_test_split\n",
    "from sklearn.metrics import confusion_matrix\n",
    "from sklearn.metrics import roc_curve\n",
    "from sklearn.metrics import f1_score\n",
    "from sklearn.metrics import accuracy_score\n",
    "from sklearn.preprocessing import StandardScaler\n",
    "from sklearn.manifold import TSNE\n",
    "from sklearn.cluster import KMeans\n",
    "from scipy.spatial.distance import cdist\n",
    "from sklearn.metrics import precision_recall_curve\n",
    "from sklearn.metrics import average_precision_score\n",
    "from scipy.cluster.hierarchy import dendrogram, linkage\n",
    "from scipy.cluster.hierarchy import cophenet\n",
    "from scipy.spatial.distance import pdist\n",
    "from IPython.display import HTML, display\n",
    "import tabulate\n",
    "import numpy as np\n",
    "import warnings\n",
    "warnings.filterwarnings('ignore')\n",
    "%matplotlib inline\n",
    "\n",
    "network_data = pd.read_csv('network_traffic.csv')"
   ]
  },
  {
   "cell_type": "markdown",
   "metadata": {},
   "source": [
    "## Dataset"
   ]
  },
  {
   "cell_type": "markdown",
   "metadata": {},
   "source": [
    "The data set obtained contains a detailed log of benign and malignant network sessions. In total we have around 3000 such records in the data set. \n",
    "\n",
    "We plan to use the data set from 95-791: Data Mining course website which is an adaptation of the KDD Cup 1999 Data set for Network Anomaly detection.\n",
    "  \n",
    "Below is the brief description of the 23 fields in our dataset."
   ]
  },
  {
   "cell_type": "markdown",
   "metadata": {},
   "source": [
    "<img src=\"Datadescription.jpg\"/>"
   ]
  },
  {
   "cell_type": "code",
   "execution_count": 2,
   "metadata": {},
   "outputs": [
    {
     "name": "stdout",
     "output_type": "stream",
     "text": [
      "<class 'pandas.core.frame.DataFrame'>\n",
      "RangeIndex: 3000 entries, 0 to 2999\n",
      "Data columns (total 23 columns):\n",
      "duration              3000 non-null int64\n",
      "protocol_type         3000 non-null object\n",
      "service               3000 non-null object\n",
      "flag                  3000 non-null object\n",
      "src_bytes             3000 non-null int64\n",
      "dst_bytes             3000 non-null int64\n",
      "land                  3000 non-null int64\n",
      "wrong_fragment        3000 non-null int64\n",
      "urgent                3000 non-null int64\n",
      "hot                   3000 non-null int64\n",
      "num_failed_logins     3000 non-null int64\n",
      "logged_in             3000 non-null int64\n",
      "num_compromised       3000 non-null int64\n",
      "root_shell            3000 non-null int64\n",
      "su_attempted          3000 non-null int64\n",
      "num_root              3000 non-null int64\n",
      "num_file_creations    3000 non-null int64\n",
      "num_shells            3000 non-null int64\n",
      "num_access_files      3000 non-null int64\n",
      "num_outbound_cmds     3000 non-null int64\n",
      "is_host_login         3000 non-null int64\n",
      "is_guest_login        3000 non-null int64\n",
      "is_intrusion          3000 non-null object\n",
      "dtypes: int64(19), object(4)\n",
      "memory usage: 539.1+ KB\n"
     ]
    }
   ],
   "source": [
    "# information about the features in the dataset\n",
    "network_data.info()"
   ]
  },
  {
   "cell_type": "markdown",
   "metadata": {},
   "source": [
    "## Data Cleaning Steps"
   ]
  },
  {
   "cell_type": "markdown",
   "metadata": {},
   "source": [
    "**Step 1:** We quickly analyzed the data to remove those columns where there was not much variance or predominantly filled with\n",
    "zeros. This was done because such columns would not add any variation to the machine learning model being built instead their presence would make the model more complex."
   ]
  },
  {
   "cell_type": "code",
   "execution_count": 3,
   "metadata": {},
   "outputs": [
    {
     "data": {
      "text/html": [
       "<div>\n",
       "<style scoped>\n",
       "    .dataframe tbody tr th:only-of-type {\n",
       "        vertical-align: middle;\n",
       "    }\n",
       "\n",
       "    .dataframe tbody tr th {\n",
       "        vertical-align: top;\n",
       "    }\n",
       "\n",
       "    .dataframe thead th {\n",
       "        text-align: right;\n",
       "    }\n",
       "</style>\n",
       "<table border=\"1\" class=\"dataframe\">\n",
       "  <thead>\n",
       "    <tr style=\"text-align: right;\">\n",
       "      <th></th>\n",
       "      <th>duration</th>\n",
       "      <th>src_bytes</th>\n",
       "      <th>dst_bytes</th>\n",
       "      <th>land</th>\n",
       "      <th>wrong_fragment</th>\n",
       "      <th>urgent</th>\n",
       "      <th>hot</th>\n",
       "      <th>num_failed_logins</th>\n",
       "      <th>logged_in</th>\n",
       "      <th>num_compromised</th>\n",
       "      <th>root_shell</th>\n",
       "      <th>su_attempted</th>\n",
       "      <th>num_root</th>\n",
       "      <th>num_file_creations</th>\n",
       "      <th>num_shells</th>\n",
       "      <th>num_access_files</th>\n",
       "      <th>num_outbound_cmds</th>\n",
       "      <th>is_host_login</th>\n",
       "      <th>is_guest_login</th>\n",
       "    </tr>\n",
       "  </thead>\n",
       "  <tbody>\n",
       "    <tr>\n",
       "      <th>count</th>\n",
       "      <td>3000.00000</td>\n",
       "      <td>3000.000000</td>\n",
       "      <td>3000.000000</td>\n",
       "      <td>3000.0</td>\n",
       "      <td>3000.0</td>\n",
       "      <td>3000.0</td>\n",
       "      <td>3000.000000</td>\n",
       "      <td>3000.0</td>\n",
       "      <td>3000.000000</td>\n",
       "      <td>3000.000000</td>\n",
       "      <td>3000.000000</td>\n",
       "      <td>3000.000000</td>\n",
       "      <td>3000.000000</td>\n",
       "      <td>3000.000000</td>\n",
       "      <td>3000.000000</td>\n",
       "      <td>3000.000000</td>\n",
       "      <td>3000.0</td>\n",
       "      <td>3000.0</td>\n",
       "      <td>3000.000000</td>\n",
       "    </tr>\n",
       "    <tr>\n",
       "      <th>mean</th>\n",
       "      <td>118.07800</td>\n",
       "      <td>4567.784000</td>\n",
       "      <td>2705.396667</td>\n",
       "      <td>0.0</td>\n",
       "      <td>0.0</td>\n",
       "      <td>0.0</td>\n",
       "      <td>0.066000</td>\n",
       "      <td>0.0</td>\n",
       "      <td>0.717667</td>\n",
       "      <td>0.296667</td>\n",
       "      <td>0.001000</td>\n",
       "      <td>0.000667</td>\n",
       "      <td>0.347667</td>\n",
       "      <td>0.001000</td>\n",
       "      <td>0.000333</td>\n",
       "      <td>0.004667</td>\n",
       "      <td>0.0</td>\n",
       "      <td>0.0</td>\n",
       "      <td>0.015000</td>\n",
       "    </tr>\n",
       "    <tr>\n",
       "      <th>std</th>\n",
       "      <td>964.53898</td>\n",
       "      <td>29461.821106</td>\n",
       "      <td>9988.330969</td>\n",
       "      <td>0.0</td>\n",
       "      <td>0.0</td>\n",
       "      <td>0.0</td>\n",
       "      <td>0.796987</td>\n",
       "      <td>0.0</td>\n",
       "      <td>0.450210</td>\n",
       "      <td>16.139707</td>\n",
       "      <td>0.031612</td>\n",
       "      <td>0.036515</td>\n",
       "      <td>17.804619</td>\n",
       "      <td>0.031612</td>\n",
       "      <td>0.018257</td>\n",
       "      <td>0.109463</td>\n",
       "      <td>0.0</td>\n",
       "      <td>0.0</td>\n",
       "      <td>0.121573</td>\n",
       "    </tr>\n",
       "    <tr>\n",
       "      <th>min</th>\n",
       "      <td>0.00000</td>\n",
       "      <td>0.000000</td>\n",
       "      <td>0.000000</td>\n",
       "      <td>0.0</td>\n",
       "      <td>0.0</td>\n",
       "      <td>0.0</td>\n",
       "      <td>0.000000</td>\n",
       "      <td>0.0</td>\n",
       "      <td>0.000000</td>\n",
       "      <td>0.000000</td>\n",
       "      <td>0.000000</td>\n",
       "      <td>0.000000</td>\n",
       "      <td>0.000000</td>\n",
       "      <td>0.000000</td>\n",
       "      <td>0.000000</td>\n",
       "      <td>0.000000</td>\n",
       "      <td>0.0</td>\n",
       "      <td>0.0</td>\n",
       "      <td>0.000000</td>\n",
       "    </tr>\n",
       "    <tr>\n",
       "      <th>25%</th>\n",
       "      <td>0.00000</td>\n",
       "      <td>136.750000</td>\n",
       "      <td>118.000000</td>\n",
       "      <td>0.0</td>\n",
       "      <td>0.0</td>\n",
       "      <td>0.0</td>\n",
       "      <td>0.000000</td>\n",
       "      <td>0.0</td>\n",
       "      <td>0.000000</td>\n",
       "      <td>0.000000</td>\n",
       "      <td>0.000000</td>\n",
       "      <td>0.000000</td>\n",
       "      <td>0.000000</td>\n",
       "      <td>0.000000</td>\n",
       "      <td>0.000000</td>\n",
       "      <td>0.000000</td>\n",
       "      <td>0.0</td>\n",
       "      <td>0.0</td>\n",
       "      <td>0.000000</td>\n",
       "    </tr>\n",
       "    <tr>\n",
       "      <th>50%</th>\n",
       "      <td>0.00000</td>\n",
       "      <td>228.000000</td>\n",
       "      <td>388.500000</td>\n",
       "      <td>0.0</td>\n",
       "      <td>0.0</td>\n",
       "      <td>0.0</td>\n",
       "      <td>0.000000</td>\n",
       "      <td>0.0</td>\n",
       "      <td>1.000000</td>\n",
       "      <td>0.000000</td>\n",
       "      <td>0.000000</td>\n",
       "      <td>0.000000</td>\n",
       "      <td>0.000000</td>\n",
       "      <td>0.000000</td>\n",
       "      <td>0.000000</td>\n",
       "      <td>0.000000</td>\n",
       "      <td>0.0</td>\n",
       "      <td>0.0</td>\n",
       "      <td>0.000000</td>\n",
       "    </tr>\n",
       "    <tr>\n",
       "      <th>75%</th>\n",
       "      <td>0.00000</td>\n",
       "      <td>316.000000</td>\n",
       "      <td>1955.000000</td>\n",
       "      <td>0.0</td>\n",
       "      <td>0.0</td>\n",
       "      <td>0.0</td>\n",
       "      <td>0.000000</td>\n",
       "      <td>0.0</td>\n",
       "      <td>1.000000</td>\n",
       "      <td>0.000000</td>\n",
       "      <td>0.000000</td>\n",
       "      <td>0.000000</td>\n",
       "      <td>0.000000</td>\n",
       "      <td>0.000000</td>\n",
       "      <td>0.000000</td>\n",
       "      <td>0.000000</td>\n",
       "      <td>0.0</td>\n",
       "      <td>0.0</td>\n",
       "      <td>0.000000</td>\n",
       "    </tr>\n",
       "    <tr>\n",
       "      <th>max</th>\n",
       "      <td>24204.00000</td>\n",
       "      <td>283618.000000</td>\n",
       "      <td>273544.000000</td>\n",
       "      <td>0.0</td>\n",
       "      <td>0.0</td>\n",
       "      <td>0.0</td>\n",
       "      <td>25.000000</td>\n",
       "      <td>0.0</td>\n",
       "      <td>1.000000</td>\n",
       "      <td>884.000000</td>\n",
       "      <td>1.000000</td>\n",
       "      <td>2.000000</td>\n",
       "      <td>975.000000</td>\n",
       "      <td>1.000000</td>\n",
       "      <td>1.000000</td>\n",
       "      <td>5.000000</td>\n",
       "      <td>0.0</td>\n",
       "      <td>0.0</td>\n",
       "      <td>1.000000</td>\n",
       "    </tr>\n",
       "  </tbody>\n",
       "</table>\n",
       "</div>"
      ],
      "text/plain": [
       "          duration      src_bytes      dst_bytes    land  wrong_fragment  \\\n",
       "count   3000.00000    3000.000000    3000.000000  3000.0          3000.0   \n",
       "mean     118.07800    4567.784000    2705.396667     0.0             0.0   \n",
       "std      964.53898   29461.821106    9988.330969     0.0             0.0   \n",
       "min        0.00000       0.000000       0.000000     0.0             0.0   \n",
       "25%        0.00000     136.750000     118.000000     0.0             0.0   \n",
       "50%        0.00000     228.000000     388.500000     0.0             0.0   \n",
       "75%        0.00000     316.000000    1955.000000     0.0             0.0   \n",
       "max    24204.00000  283618.000000  273544.000000     0.0             0.0   \n",
       "\n",
       "       urgent          hot  num_failed_logins    logged_in  num_compromised  \\\n",
       "count  3000.0  3000.000000             3000.0  3000.000000      3000.000000   \n",
       "mean      0.0     0.066000                0.0     0.717667         0.296667   \n",
       "std       0.0     0.796987                0.0     0.450210        16.139707   \n",
       "min       0.0     0.000000                0.0     0.000000         0.000000   \n",
       "25%       0.0     0.000000                0.0     0.000000         0.000000   \n",
       "50%       0.0     0.000000                0.0     1.000000         0.000000   \n",
       "75%       0.0     0.000000                0.0     1.000000         0.000000   \n",
       "max       0.0    25.000000                0.0     1.000000       884.000000   \n",
       "\n",
       "        root_shell  su_attempted     num_root  num_file_creations  \\\n",
       "count  3000.000000   3000.000000  3000.000000         3000.000000   \n",
       "mean      0.001000      0.000667     0.347667            0.001000   \n",
       "std       0.031612      0.036515    17.804619            0.031612   \n",
       "min       0.000000      0.000000     0.000000            0.000000   \n",
       "25%       0.000000      0.000000     0.000000            0.000000   \n",
       "50%       0.000000      0.000000     0.000000            0.000000   \n",
       "75%       0.000000      0.000000     0.000000            0.000000   \n",
       "max       1.000000      2.000000   975.000000            1.000000   \n",
       "\n",
       "        num_shells  num_access_files  num_outbound_cmds  is_host_login  \\\n",
       "count  3000.000000       3000.000000             3000.0         3000.0   \n",
       "mean      0.000333          0.004667                0.0            0.0   \n",
       "std       0.018257          0.109463                0.0            0.0   \n",
       "min       0.000000          0.000000                0.0            0.0   \n",
       "25%       0.000000          0.000000                0.0            0.0   \n",
       "50%       0.000000          0.000000                0.0            0.0   \n",
       "75%       0.000000          0.000000                0.0            0.0   \n",
       "max       1.000000          5.000000                0.0            0.0   \n",
       "\n",
       "       is_guest_login  \n",
       "count     3000.000000  \n",
       "mean         0.015000  \n",
       "std          0.121573  \n",
       "min          0.000000  \n",
       "25%          0.000000  \n",
       "50%          0.000000  \n",
       "75%          0.000000  \n",
       "max          1.000000  "
      ]
     },
     "execution_count": 3,
     "metadata": {},
     "output_type": "execute_result"
    }
   ],
   "source": [
    "# distribution of the datapoints of the features\n",
    "network_data.describe()"
   ]
  },
  {
   "cell_type": "markdown",
   "metadata": {},
   "source": [
    "Some of the features dropped were \n",
    "\n",
    "land  \n",
    "wrong_fragment  \n",
    "Urgent  \n",
    "Num_failed_logins  \n",
    "Num_outbound_cmds  \n",
    "is_host_login  "
   ]
  },
  {
   "cell_type": "code",
   "execution_count": 4,
   "metadata": {
    "collapsed": true
   },
   "outputs": [],
   "source": [
    "network_data.drop(['land','wrong_fragment','urgent','num_failed_logins','num_outbound_cmds','is_host_login'], axis = 1, inplace = True)"
   ]
  },
  {
   "cell_type": "code",
   "execution_count": 5,
   "metadata": {},
   "outputs": [
    {
     "data": {
      "text/html": [
       "<div>\n",
       "<style scoped>\n",
       "    .dataframe tbody tr th:only-of-type {\n",
       "        vertical-align: middle;\n",
       "    }\n",
       "\n",
       "    .dataframe tbody tr th {\n",
       "        vertical-align: top;\n",
       "    }\n",
       "\n",
       "    .dataframe thead th {\n",
       "        text-align: right;\n",
       "    }\n",
       "</style>\n",
       "<table border=\"1\" class=\"dataframe\">\n",
       "  <thead>\n",
       "    <tr style=\"text-align: right;\">\n",
       "      <th></th>\n",
       "      <th>duration</th>\n",
       "      <th>protocol_type</th>\n",
       "      <th>service</th>\n",
       "      <th>flag</th>\n",
       "      <th>src_bytes</th>\n",
       "      <th>dst_bytes</th>\n",
       "      <th>hot</th>\n",
       "      <th>logged_in</th>\n",
       "      <th>num_compromised</th>\n",
       "      <th>root_shell</th>\n",
       "      <th>su_attempted</th>\n",
       "      <th>num_root</th>\n",
       "      <th>num_file_creations</th>\n",
       "      <th>num_shells</th>\n",
       "      <th>num_access_files</th>\n",
       "      <th>is_guest_login</th>\n",
       "      <th>is_intrusion</th>\n",
       "    </tr>\n",
       "  </thead>\n",
       "  <tbody>\n",
       "    <tr>\n",
       "      <th>0</th>\n",
       "      <td>0</td>\n",
       "      <td>tcp</td>\n",
       "      <td>http</td>\n",
       "      <td>SF</td>\n",
       "      <td>302</td>\n",
       "      <td>896</td>\n",
       "      <td>0</td>\n",
       "      <td>1</td>\n",
       "      <td>0</td>\n",
       "      <td>0</td>\n",
       "      <td>0</td>\n",
       "      <td>0</td>\n",
       "      <td>0</td>\n",
       "      <td>0</td>\n",
       "      <td>0</td>\n",
       "      <td>0</td>\n",
       "      <td>0</td>\n",
       "    </tr>\n",
       "    <tr>\n",
       "      <th>1</th>\n",
       "      <td>0</td>\n",
       "      <td>tcp</td>\n",
       "      <td>http</td>\n",
       "      <td>SF</td>\n",
       "      <td>339</td>\n",
       "      <td>1588</td>\n",
       "      <td>0</td>\n",
       "      <td>1</td>\n",
       "      <td>0</td>\n",
       "      <td>0</td>\n",
       "      <td>0</td>\n",
       "      <td>0</td>\n",
       "      <td>0</td>\n",
       "      <td>0</td>\n",
       "      <td>0</td>\n",
       "      <td>0</td>\n",
       "      <td>0</td>\n",
       "    </tr>\n",
       "    <tr>\n",
       "      <th>2</th>\n",
       "      <td>0</td>\n",
       "      <td>tcp</td>\n",
       "      <td>http</td>\n",
       "      <td>SF</td>\n",
       "      <td>260</td>\n",
       "      <td>7334</td>\n",
       "      <td>0</td>\n",
       "      <td>1</td>\n",
       "      <td>0</td>\n",
       "      <td>0</td>\n",
       "      <td>0</td>\n",
       "      <td>0</td>\n",
       "      <td>0</td>\n",
       "      <td>0</td>\n",
       "      <td>0</td>\n",
       "      <td>0</td>\n",
       "      <td>0</td>\n",
       "    </tr>\n",
       "    <tr>\n",
       "      <th>3</th>\n",
       "      <td>0</td>\n",
       "      <td>tcp</td>\n",
       "      <td>http</td>\n",
       "      <td>SF</td>\n",
       "      <td>213</td>\n",
       "      <td>8679</td>\n",
       "      <td>0</td>\n",
       "      <td>1</td>\n",
       "      <td>0</td>\n",
       "      <td>0</td>\n",
       "      <td>0</td>\n",
       "      <td>0</td>\n",
       "      <td>0</td>\n",
       "      <td>0</td>\n",
       "      <td>0</td>\n",
       "      <td>0</td>\n",
       "      <td>0</td>\n",
       "    </tr>\n",
       "    <tr>\n",
       "      <th>4</th>\n",
       "      <td>0</td>\n",
       "      <td>tcp</td>\n",
       "      <td>http</td>\n",
       "      <td>SF</td>\n",
       "      <td>308</td>\n",
       "      <td>1658</td>\n",
       "      <td>0</td>\n",
       "      <td>1</td>\n",
       "      <td>0</td>\n",
       "      <td>0</td>\n",
       "      <td>0</td>\n",
       "      <td>0</td>\n",
       "      <td>0</td>\n",
       "      <td>0</td>\n",
       "      <td>0</td>\n",
       "      <td>0</td>\n",
       "      <td>0</td>\n",
       "    </tr>\n",
       "    <tr>\n",
       "      <th>5</th>\n",
       "      <td>0</td>\n",
       "      <td>tcp</td>\n",
       "      <td>http</td>\n",
       "      <td>SF</td>\n",
       "      <td>230</td>\n",
       "      <td>505</td>\n",
       "      <td>0</td>\n",
       "      <td>1</td>\n",
       "      <td>0</td>\n",
       "      <td>0</td>\n",
       "      <td>0</td>\n",
       "      <td>0</td>\n",
       "      <td>0</td>\n",
       "      <td>0</td>\n",
       "      <td>0</td>\n",
       "      <td>0</td>\n",
       "      <td>0</td>\n",
       "    </tr>\n",
       "    <tr>\n",
       "      <th>6</th>\n",
       "      <td>0</td>\n",
       "      <td>tcp</td>\n",
       "      <td>http</td>\n",
       "      <td>SF</td>\n",
       "      <td>221</td>\n",
       "      <td>445</td>\n",
       "      <td>0</td>\n",
       "      <td>1</td>\n",
       "      <td>0</td>\n",
       "      <td>0</td>\n",
       "      <td>0</td>\n",
       "      <td>0</td>\n",
       "      <td>0</td>\n",
       "      <td>0</td>\n",
       "      <td>0</td>\n",
       "      <td>0</td>\n",
       "      <td>0</td>\n",
       "    </tr>\n",
       "    <tr>\n",
       "      <th>7</th>\n",
       "      <td>0</td>\n",
       "      <td>tcp</td>\n",
       "      <td>http</td>\n",
       "      <td>SF</td>\n",
       "      <td>329</td>\n",
       "      <td>2431</td>\n",
       "      <td>0</td>\n",
       "      <td>1</td>\n",
       "      <td>0</td>\n",
       "      <td>0</td>\n",
       "      <td>0</td>\n",
       "      <td>0</td>\n",
       "      <td>0</td>\n",
       "      <td>0</td>\n",
       "      <td>0</td>\n",
       "      <td>0</td>\n",
       "      <td>0</td>\n",
       "    </tr>\n",
       "    <tr>\n",
       "      <th>8</th>\n",
       "      <td>0</td>\n",
       "      <td>tcp</td>\n",
       "      <td>http</td>\n",
       "      <td>SF</td>\n",
       "      <td>271</td>\n",
       "      <td>688</td>\n",
       "      <td>0</td>\n",
       "      <td>1</td>\n",
       "      <td>0</td>\n",
       "      <td>0</td>\n",
       "      <td>0</td>\n",
       "      <td>0</td>\n",
       "      <td>0</td>\n",
       "      <td>0</td>\n",
       "      <td>0</td>\n",
       "      <td>0</td>\n",
       "      <td>0</td>\n",
       "    </tr>\n",
       "    <tr>\n",
       "      <th>9</th>\n",
       "      <td>0</td>\n",
       "      <td>tcp</td>\n",
       "      <td>http</td>\n",
       "      <td>SF</td>\n",
       "      <td>326</td>\n",
       "      <td>566</td>\n",
       "      <td>0</td>\n",
       "      <td>1</td>\n",
       "      <td>0</td>\n",
       "      <td>0</td>\n",
       "      <td>0</td>\n",
       "      <td>0</td>\n",
       "      <td>0</td>\n",
       "      <td>0</td>\n",
       "      <td>0</td>\n",
       "      <td>0</td>\n",
       "      <td>0</td>\n",
       "    </tr>\n",
       "  </tbody>\n",
       "</table>\n",
       "</div>"
      ],
      "text/plain": [
       "   duration protocol_type service flag  src_bytes  dst_bytes  hot  logged_in  \\\n",
       "0         0           tcp    http   SF        302        896    0          1   \n",
       "1         0           tcp    http   SF        339       1588    0          1   \n",
       "2         0           tcp    http   SF        260       7334    0          1   \n",
       "3         0           tcp    http   SF        213       8679    0          1   \n",
       "4         0           tcp    http   SF        308       1658    0          1   \n",
       "5         0           tcp    http   SF        230        505    0          1   \n",
       "6         0           tcp    http   SF        221        445    0          1   \n",
       "7         0           tcp    http   SF        329       2431    0          1   \n",
       "8         0           tcp    http   SF        271        688    0          1   \n",
       "9         0           tcp    http   SF        326        566    0          1   \n",
       "\n",
       "   num_compromised  root_shell  su_attempted  num_root  num_file_creations  \\\n",
       "0                0           0             0         0                   0   \n",
       "1                0           0             0         0                   0   \n",
       "2                0           0             0         0                   0   \n",
       "3                0           0             0         0                   0   \n",
       "4                0           0             0         0                   0   \n",
       "5                0           0             0         0                   0   \n",
       "6                0           0             0         0                   0   \n",
       "7                0           0             0         0                   0   \n",
       "8                0           0             0         0                   0   \n",
       "9                0           0             0         0                   0   \n",
       "\n",
       "   num_shells  num_access_files  is_guest_login is_intrusion  \n",
       "0           0                 0               0            0  \n",
       "1           0                 0               0            0  \n",
       "2           0                 0               0            0  \n",
       "3           0                 0               0            0  \n",
       "4           0                 0               0            0  \n",
       "5           0                 0               0            0  \n",
       "6           0                 0               0            0  \n",
       "7           0                 0               0            0  \n",
       "8           0                 0               0            0  \n",
       "9           0                 0               0            0  "
      ]
     },
     "execution_count": 5,
     "metadata": {},
     "output_type": "execute_result"
    }
   ],
   "source": [
    "network_data.head(n=10)"
   ]
  },
  {
   "cell_type": "markdown",
   "metadata": {},
   "source": [
    "**Step 2:** We also analyzed the column 'Is intrusion' and found that there was one entry that was incorrectly specified. So we decided to drop that entry inorder to maintain consistency with the intrusion and non-intrusion reccords"
   ]
  },
  {
   "cell_type": "code",
   "execution_count": 6,
   "metadata": {},
   "outputs": [
    {
     "data": {
      "text/plain": [
       "0     2699\n",
       "1      300\n",
       "0=       1\n",
       "Name: is_intrusion, dtype: int64"
      ]
     },
     "execution_count": 6,
     "metadata": {},
     "output_type": "execute_result"
    }
   ],
   "source": [
    "network_data['is_intrusion'].value_counts()"
   ]
  },
  {
   "cell_type": "code",
   "execution_count": 7,
   "metadata": {
    "collapsed": true
   },
   "outputs": [],
   "source": [
    "network_data = network_data.loc[(network_data['is_intrusion'] == \"0\") | (network_data['is_intrusion'] == \"1\") ]"
   ]
  },
  {
   "cell_type": "code",
   "execution_count": 8,
   "metadata": {},
   "outputs": [
    {
     "data": {
      "text/plain": [
       "0    2699\n",
       "1     300\n",
       "Name: is_intrusion, dtype: int64"
      ]
     },
     "execution_count": 8,
     "metadata": {},
     "output_type": "execute_result"
    }
   ],
   "source": [
    "network_data['is_intrusion'].value_counts()"
   ]
  },
  {
   "cell_type": "markdown",
   "metadata": {},
   "source": [
    "## Feature Engineering"
   ]
  },
  {
   "cell_type": "markdown",
   "metadata": {},
   "source": [
    "Additionally, we observed that the duration column had a fair amount of values which were 0. In a network dataset, it would not be meaningfull to have such records. \n",
    "  \n",
    "We could either  \n",
    "a) Remove all such instances resulting in having very few records to train and test the model  \n",
    "b) Obtain the mean of duration and populate the zero entries with the mean\n",
    "  \n",
    "We choose to do the latter, since this is intuitive and we would not have to face a loss in data"
   ]
  },
  {
   "cell_type": "code",
   "execution_count": 9,
   "metadata": {},
   "outputs": [
    {
     "data": {
      "text/plain": [
       "0        2625\n",
       "1          85\n",
       "280        30\n",
       "2          24\n",
       "282        22\n",
       "5          14\n",
       "3          13\n",
       "4           8\n",
       "901         7\n",
       "805         6\n",
       "281         5\n",
       "283         5\n",
       "31          4\n",
       "796         4\n",
       "899         3\n",
       "7           3\n",
       "2075        3\n",
       "14          3\n",
       "25          3\n",
       "22          3\n",
       "907         3\n",
       "10          3\n",
       "2470        3\n",
       "2474        3\n",
       "15          3\n",
       "19          2\n",
       "2066        2\n",
       "13          2\n",
       "2065        2\n",
       "16          2\n",
       "         ... \n",
       "33          1\n",
       "37          1\n",
       "2100        1\n",
       "65          1\n",
       "2128        1\n",
       "97          1\n",
       "103         1\n",
       "137         1\n",
       "189         1\n",
       "2634        1\n",
       "8118        1\n",
       "4777        1\n",
       "948         1\n",
       "898         1\n",
       "15122       1\n",
       "904         1\n",
       "908         1\n",
       "11020       1\n",
       "926         1\n",
       "938         1\n",
       "13306       1\n",
       "4785        1\n",
       "3581        1\n",
       "1600        1\n",
       "1816        1\n",
       "12151       1\n",
       "6052        1\n",
       "1974        1\n",
       "4791        1\n",
       "2015        1\n",
       "Name: duration, Length: 121, dtype: int64"
      ]
     },
     "execution_count": 9,
     "metadata": {},
     "output_type": "execute_result"
    }
   ],
   "source": [
    "network_data['duration'].value_counts()"
   ]
  },
  {
   "cell_type": "code",
   "execution_count": 10,
   "metadata": {},
   "outputs": [
    {
     "data": {
      "text/plain": [
       "118.11737245748583"
      ]
     },
     "execution_count": 10,
     "metadata": {},
     "output_type": "execute_result"
    }
   ],
   "source": [
    "network_data['duration'].mean()"
   ]
  },
  {
   "cell_type": "code",
   "execution_count": 11,
   "metadata": {
    "collapsed": true
   },
   "outputs": [],
   "source": [
    "network_data['duration'].replace(0, network_data['duration'].mean(), inplace = True)"
   ]
  },
  {
   "cell_type": "markdown",
   "metadata": {},
   "source": [
    "## One-Hot Encoding"
   ]
  },
  {
   "cell_type": "markdown",
   "metadata": {},
   "source": [
    "Since there were several categorial variables and our model would not be able to understand them. We performed a one-hot encoding to transform these features so that our model can interpret them."
   ]
  },
  {
   "cell_type": "code",
   "execution_count": 12,
   "metadata": {},
   "outputs": [
    {
     "name": "stdout",
     "output_type": "stream",
     "text": [
      "====================[Data Types]====================\n",
      "duration              float64\n",
      "src_bytes               int64\n",
      "dst_bytes               int64\n",
      "hot                     int64\n",
      "logged_in               int64\n",
      "num_compromised         int64\n",
      "root_shell              int64\n",
      "su_attempted            int64\n",
      "num_root                int64\n",
      "num_file_creations      int64\n",
      "num_shells              int64\n",
      "num_access_files        int64\n",
      "is_guest_login          int64\n",
      "is_intrusion           object\n",
      "protocol_type_icmp      uint8\n",
      "protocol_type_tcp       uint8\n",
      "protocol_type_udp       uint8\n",
      "service_auth            uint8\n",
      "service_domain_u        uint8\n",
      "service_eco_i           uint8\n",
      "service_ecr_i           uint8\n",
      "service_finger          uint8\n",
      "service_ftp             uint8\n",
      "service_ftp_data        uint8\n",
      "service_http            uint8\n",
      "service_ntp_u           uint8\n",
      "service_other           uint8\n",
      "service_pop_3           uint8\n",
      "service_private         uint8\n",
      "service_smtp            uint8\n",
      "service_telnet          uint8\n",
      "service_time            uint8\n",
      "service_urp_i           uint8\n",
      "flag_REJ                uint8\n",
      "flag_RSTO               uint8\n",
      "flag_RSTR               uint8\n",
      "flag_S0                 uint8\n",
      "flag_S3                 uint8\n",
      "flag_SF                 uint8\n",
      "dtype: object\n"
     ]
    }
   ],
   "source": [
    "# Refferred to https://github.com/jihoon1990/Loan_Default_Prediction/blob/master/Loan_Default_Prediction.ipynb\n",
    "categorical = ['protocol_type','service','flag']\n",
    "\n",
    "def one_hot_encoder(network_data):\n",
    "    categorical_variables = categorical\n",
    "    network_data_one_hot_encoded = pd.get_dummies(network_data, columns=categorical_variables)\n",
    "    print(\"====================[Data Types]====================\")\n",
    "    print(network_data_one_hot_encoded.dtypes)\n",
    "    return network_data_one_hot_encoded\n",
    "network_data_one_hot_encoded = one_hot_encoder(network_data)"
   ]
  },
  {
   "cell_type": "markdown",
   "metadata": {},
   "source": [
    "## Exploratory Data Analysis"
   ]
  },
  {
   "cell_type": "markdown",
   "metadata": {},
   "source": [
    "After performing data cleaning and feature engineering, we moved into visualizing the data in order to get a sense of the network data. "
   ]
  },
  {
   "cell_type": "markdown",
   "metadata": {},
   "source": [
    "### Visualization 1 : Count of Benign v/s Attack"
   ]
  },
  {
   "cell_type": "markdown",
   "metadata": {},
   "source": [
    "From the plot, we can clearly we that we are dealing with imbalanced data here. There are far greater number of benign reccords than attacks in the dataset.      \n",
    "If we train our model with such data it would fail to generalize on the test data hence we would need to perform sampling on the data before we train our model."
   ]
  },
  {
   "cell_type": "code",
   "execution_count": 13,
   "metadata": {},
   "outputs": [
    {
     "data": {
      "image/png": "[encoded data removed]",
      "text/plain": [
       "<matplotlib.figure.Figure at 0x279343282e8>"
      ]
     },
     "metadata": {},
     "output_type": "display_data"
    }
   ],
   "source": [
    "# plotting the benign and intrusion network calls\n",
    "sns.set(rc={'figure.figsize':(8,5)})\n",
    "sns.set_style(\"whitegrid\")\n",
    "sns.countplot(network_data['is_intrusion'])\n",
    "plt.legend([\"Benign\",\"Attack\"],loc = 'upper right')\n",
    "plt.xlabel(\"Is Intrusion\")\n",
    "plt.ylabel(\"Count\")\n",
    "plt.title(\"Count of Benign v/s Attack network data\")\n",
    "plt.show()"
   ]
  },
  {
   "cell_type": "markdown",
   "metadata": {},
   "source": [
    "### Visualization 2 : Distribution of Benign v/s Attack source bytes"
   ]
  },
  {
   "cell_type": "markdown",
   "metadata": {},
   "source": [
    "We observe that the distribution is skewed towards the left with majority source bytes less than 25000. Additionally, there are a few source bytes for attack records between 25000 and 30000 which could point to network attacks"
   ]
  },
  {
   "cell_type": "code",
   "execution_count": 14,
   "metadata": {},
   "outputs": [
    {
     "data": {
      "image/png": "[encoded data removed]",
      "text/plain": [
       "<matplotlib.figure.Figure at 0x27948e01cc0>"
      ]
     },
     "metadata": {},
     "output_type": "display_data"
    }
   ],
   "source": [
    "# plotting the src_bytes for benign Vs attack\n",
    "sns.set(rc={'figure.figsize':(20,5)})\n",
    "sns.set_style(\"whitegrid\")\n",
    "plt.ylim(0.00000, 0.0000075)\n",
    "sns.distplot(network_data[network_data['is_intrusion'] == \"0\"]['src_bytes'])\n",
    "sns.distplot(network_data[network_data['is_intrusion'] == \"1\"]['src_bytes'])\n",
    "plt.legend([\"Benign\",\"Attack\"],loc = 'upper right')\n",
    "plt.xlabel(\"Source Bytes\")\n",
    "plt.title(\"Distribution of Benign v/s Attack Source bytes\")\n",
    "plt.show()"
   ]
  },
  {
   "cell_type": "markdown",
   "metadata": {},
   "source": [
    "### Visualization 3 : Distribution of Benign v/s Attack Destination bytes"
   ]
  },
  {
   "cell_type": "markdown",
   "metadata": {},
   "source": [
    "We observe that the distribution is skewed towards the left with majority source bytes less than 10000."
   ]
  },
  {
   "cell_type": "code",
   "execution_count": 15,
   "metadata": {},
   "outputs": [
    {
     "data": {
      "image/png": "[encoded data removed]",
      "text/plain": [
       "<matplotlib.figure.Figure at 0x27948e01a90>"
      ]
     },
     "metadata": {},
     "output_type": "display_data"
    }
   ],
   "source": [
    "# plotting the _bytes for benign Vs attack\n",
    "sns.set(rc={'figure.figsize':(20,5)})\n",
    "sns.set_style(\"whitegrid\")\n",
    "plt.ylim(0.00000, 0.0000075)\n",
    "sns.distplot(network_data[network_data['is_intrusion'] == \"0\"]['dst_bytes'])\n",
    "sns.distplot(network_data[network_data['is_intrusion'] == \"1\"]['dst_bytes'])\n",
    "plt.legend([\"Benign\",\"Attack\"],loc = 'upper right')\n",
    "plt.xlabel(\"Destination Bytes\")\n",
    "plt.title(\"Distribution of Benign v/s Attack Destination bytes\")\n",
    "plt.show()"
   ]
  },
  {
   "cell_type": "markdown",
   "metadata": {},
   "source": [
    "### Visualization 4 : Count of service types for Benign v/s Attack records"
   ]
  },
  {
   "cell_type": "markdown",
   "metadata": {},
   "source": [
    "For the benign reccords we see service types for http requests, private requests , smtp requests and domain_u requests consisting of the majority types.  \n",
    "For the attack reccords most of the service types consists of http, private and ftp_data."
   ]
  },
  {
   "cell_type": "code",
   "execution_count": 16,
   "metadata": {},
   "outputs": [
    {
     "data": {
      "image/png": "[encoded data removed]",
      "text/plain": [
       "<matplotlib.figure.Figure at 0x2794af65320>"
      ]
     },
     "metadata": {},
     "output_type": "display_data"
    }
   ],
   "source": [
    "# splitting the benign and intrusion on the service\n",
    "sns.set(rc={'figure.figsize':(20,5)})\n",
    "sns.set_style(\"whitegrid\")\n",
    "sns.countplot(x = \"service\",data = network_data,hue=\"is_intrusion\")\n",
    "plt.legend([\"Benign\",\"Attack\"],loc = 'upper right')\n",
    "plt.xlabel(\"Service\")\n",
    "plt.ylabel(\"Count\")\n",
    "plt.title(\"Count of service types for Benign v/s Attack records\")\n",
    "plt.show()"
   ]
  },
  {
   "cell_type": "markdown",
   "metadata": {},
   "source": [
    "### Visualization 5 : Count of Flags for Benign v/s Attack records"
   ]
  },
  {
   "cell_type": "markdown",
   "metadata": {},
   "source": [
    "Amongst, the various flags SF and Rejected show up for most of the benign records.  \n",
    "While, network attacks were categorized by SF, S0 and RSTR flags"
   ]
  },
  {
   "cell_type": "code",
   "execution_count": 17,
   "metadata": {},
   "outputs": [
    {
     "data": {
      "image/png": "[encoded data removed]",
      "text/plain": [
       "<matplotlib.figure.Figure at 0x2794b0e85f8>"
      ]
     },
     "metadata": {},
     "output_type": "display_data"
    }
   ],
   "source": [
    "# splitting the benign and intrusion on the flag\n",
    "sns.set(rc={'figure.figsize':(8,5)})\n",
    "sns.set_style(\"whitegrid\")\n",
    "sns.countplot(x = \"flag\",data = network_data,hue=\"is_intrusion\")\n",
    "plt.legend([\"Benign\",\"Attack\"],loc = 'upper right')\n",
    "plt.xlabel(\"Flag\")\n",
    "plt.ylabel(\"Count\")\n",
    "plt.title(\"Count of Flags for Benign v/s Attack records\")\n",
    "plt.show()"
   ]
  },
  {
   "cell_type": "markdown",
   "metadata": {},
   "source": [
    "### Visualization 6 : Count of Protocol Types for Benign v/s Attack records"
   ]
  },
  {
   "cell_type": "markdown",
   "metadata": {},
   "source": [
    "The network data consisted of mainly TCP,UDP and ICMP protocol types.  \n",
    "While protocol TCP comprised of majority of the records, most of the attacks seem to be associated with protocol type TCP or UDP"
   ]
  },
  {
   "cell_type": "code",
   "execution_count": 18,
   "metadata": {},
   "outputs": [
    {
     "data": {
      "image/png": "[encoded data removed]",
      "text/plain": [
       "<matplotlib.figure.Figure at 0x2794afcd908>"
      ]
     },
     "metadata": {},
     "output_type": "display_data"
    }
   ],
   "source": [
    "# splitting the benign and intrusion on the protocol_type\n",
    "sns.set(rc={'figure.figsize':(8,5)})\n",
    "sns.set_style(\"whitegrid\")\n",
    "sns.countplot(x = \"protocol_type\",data = network_data, hue=\"is_intrusion\")\n",
    "plt.legend([\"Benign\",\"Attack\"],loc = 'upper right')\n",
    "plt.xlabel(\"Protocol Type\")\n",
    "plt.ylabel(\"Count\")\n",
    "plt.title(\"Count of Protocol Types for Benign v/s Attack records\")\n",
    "plt.show()"
   ]
  },
  {
   "cell_type": "markdown",
   "metadata": {},
   "source": [
    "### Visualization 7 : Correlation Plot"
   ]
  },
  {
   "cell_type": "markdown",
   "metadata": {},
   "source": [
    "We plotted a correlation plot to observe the highly correlated variables and decided to remove such variables because \n",
    "  \n",
    "a) Correlated variables do not add any new information into our model  \n",
    "b) A large number of features makes our model complex and difficult to interpret"
   ]
  },
  {
   "cell_type": "code",
   "execution_count": 19,
   "metadata": {},
   "outputs": [
    {
     "data": {
      "image/png": "[encoded data removed]",
      "text/plain": [
       "<matplotlib.figure.Figure at 0x2794b14e5f8>"
      ]
     },
     "metadata": {},
     "output_type": "display_data"
    }
   ],
   "source": [
    "# plotting the correlation between different features\n",
    "# this plot helps us in removing the features which are strongly related\n",
    "sns.set(rc={'figure.figsize':(15,14)})\n",
    "corr = network_data.corr()\n",
    "sns.heatmap(corr, \n",
    "            xticklabels=corr.columns.values,\n",
    "            yticklabels=corr.columns.values, annot = True)\n",
    "plt.title(\"Correlation Plot\")\n",
    "plt.show()"
   ]
  },
  {
   "cell_type": "markdown",
   "metadata": {},
   "source": [
    "Remove the highly correlated variables 'num_root' and 'su_attempted'."
   ]
  },
  {
   "cell_type": "code",
   "execution_count": 20,
   "metadata": {
    "collapsed": true
   },
   "outputs": [],
   "source": [
    "network_data.drop(['num_root', 'su_attempted'], axis=1, inplace=True)"
   ]
  },
  {
   "cell_type": "markdown",
   "metadata": {},
   "source": [
    "## Machine Learning Models"
   ]
  },
  {
   "cell_type": "markdown",
   "metadata": {},
   "source": [
    "According to Tom Mitchell “A computer program is said to learn from experience E with respect to some class of tasks T and performance measure P if its performance at tasks in T, as measured by P, improves with experience E.\"  \n",
    "  \n",
    "A)\tDuring supervised learning:   \n",
    "  \n",
    "Our primary task T would be to distinguish anomalous and benign behavior and predict anomalous/ benign network intrusions.  \n",
    "Our performance P would be measured by accuracy, f1-score, ROC curve  \n",
    "Our experience E would be gained using the training data set.  \n",
    "\n",
    "B)\tDuring unsupervised learning:  \n",
    "  \n",
    "Our primary task T would be to identify types of intrusions and factors/attributes that correlate with these specific intrusions.  \n",
    "Our performance P would be measured by Cophenetic Correlation Coefficient  \n",
    "Our experience E would be gained using the training data set.   "
   ]
  },
  {
   "cell_type": "markdown",
   "metadata": {},
   "source": [
    "### Supervised Learning - Comparision of Weak Learners and Ensemble Methods"
   ]
  },
  {
   "cell_type": "markdown",
   "metadata": {},
   "source": [
    "We performed our comparision across different machine learning models\n",
    "   \n",
    "**A) Weak Learners**  \n",
    "\n",
    "    i)  Logistic Regression   \n",
    "    ii) Naive Bayes  \n",
    "      \n",
    "    We choose to keep Logistic Regression as our baseline model based on which we would compare other models. \n",
    "  \n",
    "**B) Ensemble Methods**   \n",
    "     \n",
    "    They take a bunch of independent weak learners to combine their decisions and make an accurate prediction. \n",
    "  \n",
    "    i) Random Forests\n",
    "    ii) Ada Boost"
   ]
  },
  {
   "cell_type": "markdown",
   "metadata": {},
   "source": [
    "#### Test-Train split"
   ]
  },
  {
   "cell_type": "markdown",
   "metadata": {},
   "source": [
    "We performed a Test-train split. Splitting our training and test data into a 75-25 (Train-Test) ratio."
   ]
  },
  {
   "cell_type": "code",
   "execution_count": 21,
   "metadata": {
    "collapsed": true
   },
   "outputs": [],
   "source": [
    "# seperating the feature data and the label\n",
    "ydata = network_data_one_hot_encoded.is_intrusion\n",
    "Xdata = network_data_one_hot_encoded.drop('is_intrusion', axis=1)\n",
    "Xtrain, Xtest, ytrain, ytest = train_test_split(Xdata, ydata, test_size=0.25, random_state = 25)"
   ]
  },
  {
   "cell_type": "markdown",
   "metadata": {},
   "source": [
    "#### SMOTE - Synthetic Minority Over-sampling Technique"
   ]
  },
  {
   "cell_type": "markdown",
   "metadata": {},
   "source": [
    "Since we are dealing with imbalanced data we performed SMOTE(Synthetic Minority Over-sampling Technique) on our data. This technique removes imbalance in data by oversampling data by creating synthethic variations in the data. Thus helping us to balance our skewed dataset while not biasing the model."
   ]
  },
  {
   "cell_type": "code",
   "execution_count": 22,
   "metadata": {
    "collapsed": true
   },
   "outputs": [],
   "source": [
    "# Using SMOTE to balance the train data we have\n",
    "sm = SMOTE(random_state=42)\n",
    "X_train_sm, y_train_sm = sm.fit_sample(Xtrain,np.array(ytrain).ravel())"
   ]
  },
  {
   "cell_type": "markdown",
   "metadata": {},
   "source": [
    "#### Cross-Validation for Logistic Regression, Naive Bayes, Random Forest and Ada Boost"
   ]
  },
  {
   "cell_type": "markdown",
   "metadata": {},
   "source": [
    "Cross Validation is an important pre-step while training your models. It assists in fine tuning hyper paramters in your model to ensure that your model does not overfit and generalizes well on unseen test data.\n",
    "  \n",
    "The below hyperparameters were tuned while training our model.  \n",
    "  \n",
    "      Logistic Regression C (Regularization strength) = 1   \n",
    "      Bernoulli Naive Bayes Alpha (Laplace smoothing parameter) = 0.01  \n",
    "      Random Forests (Pruned depth) = 15  \n",
    "      Ada boost (Number of Estimators) = 10  \n",
    "\n",
    "*Setting the Regularization parameter helps to penalize complex models and prevents overfitting.*"
   ]
  },
  {
   "cell_type": "markdown",
   "metadata": {},
   "source": [
    "##### Cross-Validation for Logistic Regression"
   ]
  },
  {
   "cell_type": "code",
   "execution_count": 23,
   "metadata": {},
   "outputs": [
    {
     "name": "stdout",
     "output_type": "stream",
     "text": [
      "C = 1.00 \n",
      "\t[fold 0] C: 1.00, accuracy: 0.83120\n",
      "\t[fold 1] C: 1.00, accuracy: 0.82258\n",
      "\t[fold 2] C: 1.00, accuracy: 0.83259\n",
      "\t[fold 3] C: 1.00, accuracy: 0.46736\n",
      "\t[fold 4] C: 1.00, accuracy: 0.46881\n",
      "C = 10.00 \n",
      "\t[fold 0] C: 10.00, accuracy: 0.83120\n",
      "\t[fold 1] C: 10.00, accuracy: 0.82258\n",
      "\t[fold 2] C: 10.00, accuracy: 0.83259\n",
      "\t[fold 3] C: 10.00, accuracy: 0.46736\n",
      "\t[fold 4] C: 10.00, accuracy: 0.46881\n",
      "C = 100.00 \n",
      "\t[fold 0] C: 100.00, accuracy: 0.83120\n",
      "\t[fold 1] C: 100.00, accuracy: 0.82258\n",
      "\t[fold 2] C: 100.00, accuracy: 0.83259\n",
      "\t[fold 3] C: 100.00, accuracy: 0.46736\n",
      "\t[fold 4] C: 100.00, accuracy: 0.46881\n",
      "C = 1000.00 \n",
      "\t[fold 0] C: 1000.00, accuracy: 0.83120\n",
      "\t[fold 1] C: 1000.00, accuracy: 0.82258\n",
      "\t[fold 2] C: 1000.00, accuracy: 0.83259\n",
      "\t[fold 3] C: 1000.00, accuracy: 0.46736\n",
      "\t[fold 4] C: 1000.00, accuracy: 0.46881\n",
      "C = 10000.00 \n",
      "\t[fold 0] C: 10000.00, accuracy: 0.83120\n",
      "\t[fold 1] C: 10000.00, accuracy: 0.82258\n",
      "\t[fold 2] C: 10000.00, accuracy: 0.83259\n",
      "\t[fold 3] C: 10000.00, accuracy: 0.46736\n",
      "\t[fold 4] C: 10000.00, accuracy: 0.46881\n",
      "\n",
      "Logistic Regression best C: 1\n"
     ]
    }
   ],
   "source": [
    "# KFold - split dataset into 5 folds for determining the best value for hypervector\n",
    "#refferred to UDA class notebook : https://gist.github.com/emaadmanzoor/0ba78a2920ea0858b54942eff8b08820\n",
    "from sklearn.model_selection import KFold\n",
    "num_folds = 5\n",
    "k_fold = KFold(num_folds)\n",
    "max_cross_c_score = -np.inf\n",
    "\n",
    "for C in [1, 10, 100, 1000, 10000]:\n",
    "\n",
    "    fold_scores = []\n",
    "    print(\"C = %.2f \" %(C))\n",
    "    for k, (train, val) in enumerate(k_fold.split(X_train_sm, y_train_sm)):\n",
    "        logisticRegression = LogisticRegression(C=C , random_state= 7)\n",
    "        logisticRegression.fit(X_train_sm[train], y_train_sm[train])\n",
    "\n",
    "        ypred = logisticRegression.predict(X_train_sm[val])\n",
    "        yval = y_train_sm[val]\n",
    "        # weighted accuracy calculated\n",
    "        accuracy = f1_score(yval, ypred.ravel(), average='weighted')\n",
    "        fold_scores.append(accuracy)\n",
    "        # printing the accuracy and the hypervector value\n",
    "        print(\"\\t[fold {0}] C: {1:.2f}, accuracy: {2:.5f}\".\n",
    "              format(k, C, accuracy))\n",
    "\n",
    "    cross_val_score = np.mean(fold_scores)\n",
    "    if cross_val_score > max_cross_c_score:\n",
    "        max_cross_c_score = cross_val_score\n",
    "        arg_max = C\n",
    "            \n",
    "best_C = arg_max\n",
    "print('\\nLogistic Regression best C:',best_C)"
   ]
  },
  {
   "cell_type": "markdown",
   "metadata": {},
   "source": [
    "##### Cross-validation for Bernoulli Naive Bayes"
   ]
  },
  {
   "cell_type": "code",
   "execution_count": 24,
   "metadata": {},
   "outputs": [
    {
     "name": "stdout",
     "output_type": "stream",
     "text": [
      "Alpha = 0.01 \n",
      "\t[fold 0] Alpha: 0.01, accuracy: 0.91069\n",
      "\t[fold 1] Alpha: 0.01, accuracy: 0.92784\n",
      "\t[fold 2] Alpha: 0.01, accuracy: 0.94100\n",
      "\t[fold 3] Alpha: 0.01, accuracy: 0.99876\n",
      "\t[fold 4] Alpha: 0.01, accuracy: 0.99938\n",
      "Alpha = 0.11 \n",
      "\t[fold 0] Alpha: 0.11, accuracy: 0.91069\n",
      "\t[fold 1] Alpha: 0.11, accuracy: 0.92784\n",
      "\t[fold 2] Alpha: 0.11, accuracy: 0.94100\n",
      "\t[fold 3] Alpha: 0.11, accuracy: 0.99876\n",
      "\t[fold 4] Alpha: 0.11, accuracy: 0.99938\n",
      "Alpha = 0.21 \n",
      "\t[fold 0] Alpha: 0.21, accuracy: 0.91069\n",
      "\t[fold 1] Alpha: 0.21, accuracy: 0.92784\n",
      "\t[fold 2] Alpha: 0.21, accuracy: 0.94100\n",
      "\t[fold 3] Alpha: 0.21, accuracy: 0.99876\n",
      "\t[fold 4] Alpha: 0.21, accuracy: 0.99938\n",
      "Alpha = 0.31 \n",
      "\t[fold 0] Alpha: 0.31, accuracy: 0.91069\n",
      "\t[fold 1] Alpha: 0.31, accuracy: 0.92784\n",
      "\t[fold 2] Alpha: 0.31, accuracy: 0.94100\n",
      "\t[fold 3] Alpha: 0.31, accuracy: 0.99876\n",
      "\t[fold 4] Alpha: 0.31, accuracy: 0.99938\n",
      "Alpha = 0.41 \n",
      "\t[fold 0] Alpha: 0.41, accuracy: 0.91069\n",
      "\t[fold 1] Alpha: 0.41, accuracy: 0.92784\n",
      "\t[fold 2] Alpha: 0.41, accuracy: 0.94100\n",
      "\t[fold 3] Alpha: 0.41, accuracy: 0.99876\n",
      "\t[fold 4] Alpha: 0.41, accuracy: 0.99938\n",
      "Alpha = 0.51 \n",
      "\t[fold 0] Alpha: 0.51, accuracy: 0.91069\n",
      "\t[fold 1] Alpha: 0.51, accuracy: 0.92784\n",
      "\t[fold 2] Alpha: 0.51, accuracy: 0.94100\n",
      "\t[fold 3] Alpha: 0.51, accuracy: 0.99876\n",
      "\t[fold 4] Alpha: 0.51, accuracy: 0.99938\n",
      "Alpha = 0.61 \n",
      "\t[fold 0] Alpha: 0.61, accuracy: 0.91069\n",
      "\t[fold 1] Alpha: 0.61, accuracy: 0.92784\n",
      "\t[fold 2] Alpha: 0.61, accuracy: 0.94100\n",
      "\t[fold 3] Alpha: 0.61, accuracy: 0.99876\n",
      "\t[fold 4] Alpha: 0.61, accuracy: 0.99938\n",
      "Alpha = 0.71 \n",
      "\t[fold 0] Alpha: 0.71, accuracy: 0.91069\n",
      "\t[fold 1] Alpha: 0.71, accuracy: 0.92784\n",
      "\t[fold 2] Alpha: 0.71, accuracy: 0.94100\n",
      "\t[fold 3] Alpha: 0.71, accuracy: 0.99876\n",
      "\t[fold 4] Alpha: 0.71, accuracy: 0.99938\n",
      "Alpha = 0.81 \n",
      "\t[fold 0] Alpha: 0.81, accuracy: 0.91069\n",
      "\t[fold 1] Alpha: 0.81, accuracy: 0.92784\n",
      "\t[fold 2] Alpha: 0.81, accuracy: 0.94100\n",
      "\t[fold 3] Alpha: 0.81, accuracy: 0.99876\n",
      "\t[fold 4] Alpha: 0.81, accuracy: 0.99938\n",
      "Alpha = 0.91 \n",
      "\t[fold 0] Alpha: 0.91, accuracy: 0.91069\n",
      "\t[fold 1] Alpha: 0.91, accuracy: 0.92784\n",
      "\t[fold 2] Alpha: 0.91, accuracy: 0.94100\n",
      "\t[fold 3] Alpha: 0.91, accuracy: 0.99876\n",
      "\t[fold 4] Alpha: 0.91, accuracy: 0.99938\n",
      "\n",
      "Naive Bayes best alpha: 0.01\n"
     ]
    }
   ],
   "source": [
    "# using Kfold for creating 5 sets of the train data\n",
    "#refferred to UDA class notebook : https://gist.github.com/emaadmanzoor/0ba78a2920ea0858b54942eff8b08820\n",
    "from sklearn.model_selection import KFold\n",
    "num_folds = 5\n",
    "k_fold = KFold(num_folds)\n",
    "max_cross_alpha_score = -np.inf\n",
    "\n",
    "for Alpha in np.arange(0.01,1,0.1):\n",
    "    fold_scores = []\n",
    "    print(\"Alpha = %.2f \" %(Alpha))\n",
    "    for k, (train, val) in enumerate(k_fold.split(X_train_sm, y_train_sm)):\n",
    "        nb_up = BernoulliNB(alpha = Alpha)\n",
    "        nb_up.fit(X_train_sm[train], y_train_sm[train])\n",
    "\n",
    "        ypred = nb_up.predict(X_train_sm[val])\n",
    "        yval = y_train_sm[val]\n",
    "        # weighted accuracy calculated\n",
    "        accuracy = f1_score(yval, ypred, average='weighted')\n",
    "        fold_scores.append(accuracy)\n",
    "        \n",
    "        print(\"\\t[fold {0}] Alpha: {1:.2f}, accuracy: {2:.5f}\".\n",
    "              format(k, Alpha, accuracy))\n",
    "\n",
    "    cross_val_score = np.mean(fold_scores)\n",
    "    if cross_val_score > max_cross_alpha_score:\n",
    "        max_cross_alpha_score = cross_val_score\n",
    "        arg_max = Alpha\n",
    "            \n",
    "best_alpha = arg_max\n",
    "print('\\nNaive Bayes best alpha:',best_alpha)"
   ]
  },
  {
   "cell_type": "markdown",
   "metadata": {},
   "source": [
    "##### Cross Validation for Random Forest"
   ]
  },
  {
   "cell_type": "code",
   "execution_count": 25,
   "metadata": {},
   "outputs": [
    {
     "name": "stdout",
     "output_type": "stream",
     "text": [
      "Depth = 12.00 \n",
      "\t[fold 0] Depth: 12.00, accuracy: 0.96042\n",
      "\t[fold 1] Depth: 12.00, accuracy: 0.97392\n",
      "\t[fold 2] Depth: 12.00, accuracy: 0.97796\n",
      "\t[fold 3] Depth: 12.00, accuracy: 1.00000\n",
      "\t[fold 4] Depth: 12.00, accuracy: 0.99876\n",
      "Depth = 13.00 \n",
      "\t[fold 0] Depth: 13.00, accuracy: 0.96147\n",
      "\t[fold 1] Depth: 13.00, accuracy: 0.97392\n",
      "\t[fold 2] Depth: 13.00, accuracy: 0.97796\n",
      "\t[fold 3] Depth: 13.00, accuracy: 1.00000\n",
      "\t[fold 4] Depth: 13.00, accuracy: 0.99876\n",
      "Depth = 14.00 \n",
      "\t[fold 0] Depth: 14.00, accuracy: 0.96147\n",
      "\t[fold 1] Depth: 14.00, accuracy: 0.97392\n",
      "\t[fold 2] Depth: 14.00, accuracy: 0.97796\n",
      "\t[fold 3] Depth: 14.00, accuracy: 1.00000\n",
      "\t[fold 4] Depth: 14.00, accuracy: 0.99876\n",
      "Depth = 15.00 \n",
      "\t[fold 0] Depth: 15.00, accuracy: 0.97436\n",
      "\t[fold 1] Depth: 15.00, accuracy: 0.97392\n",
      "\t[fold 2] Depth: 15.00, accuracy: 0.97796\n",
      "\t[fold 3] Depth: 15.00, accuracy: 1.00000\n",
      "\t[fold 4] Depth: 15.00, accuracy: 0.99876\n",
      "Depth = 16.00 \n",
      "\t[fold 0] Depth: 16.00, accuracy: 0.97436\n",
      "\t[fold 1] Depth: 16.00, accuracy: 0.97392\n",
      "\t[fold 2] Depth: 16.00, accuracy: 0.97796\n",
      "\t[fold 3] Depth: 16.00, accuracy: 1.00000\n",
      "\t[fold 4] Depth: 16.00, accuracy: 0.99876\n",
      "Depth = 17.00 \n",
      "\t[fold 0] Depth: 17.00, accuracy: 0.97436\n",
      "\t[fold 1] Depth: 17.00, accuracy: 0.97392\n",
      "\t[fold 2] Depth: 17.00, accuracy: 0.97796\n",
      "\t[fold 3] Depth: 17.00, accuracy: 1.00000\n",
      "\t[fold 4] Depth: 17.00, accuracy: 0.99876\n",
      "Depth = 18.00 \n",
      "\t[fold 0] Depth: 18.00, accuracy: 0.97436\n",
      "\t[fold 1] Depth: 18.00, accuracy: 0.97392\n",
      "\t[fold 2] Depth: 18.00, accuracy: 0.97796\n",
      "\t[fold 3] Depth: 18.00, accuracy: 1.00000\n",
      "\t[fold 4] Depth: 18.00, accuracy: 0.99876\n",
      "Depth = 19.00 \n",
      "\t[fold 0] Depth: 19.00, accuracy: 0.97436\n",
      "\t[fold 1] Depth: 19.00, accuracy: 0.97392\n",
      "\t[fold 2] Depth: 19.00, accuracy: 0.97796\n",
      "\t[fold 3] Depth: 19.00, accuracy: 1.00000\n",
      "\t[fold 4] Depth: 19.00, accuracy: 0.99876\n",
      "Depth = 20.00 \n",
      "\t[fold 0] Depth: 20.00, accuracy: 0.97436\n",
      "\t[fold 1] Depth: 20.00, accuracy: 0.97392\n",
      "\t[fold 2] Depth: 20.00, accuracy: 0.97796\n",
      "\t[fold 3] Depth: 20.00, accuracy: 1.00000\n",
      "\t[fold 4] Depth: 20.00, accuracy: 0.99876\n",
      "Depth = 21.00 \n",
      "\t[fold 0] Depth: 21.00, accuracy: 0.97436\n",
      "\t[fold 1] Depth: 21.00, accuracy: 0.97392\n",
      "\t[fold 2] Depth: 21.00, accuracy: 0.97796\n",
      "\t[fold 3] Depth: 21.00, accuracy: 1.00000\n",
      "\t[fold 4] Depth: 21.00, accuracy: 0.99876\n",
      "Depth = 22.00 \n",
      "\t[fold 0] Depth: 22.00, accuracy: 0.97436\n",
      "\t[fold 1] Depth: 22.00, accuracy: 0.97392\n",
      "\t[fold 2] Depth: 22.00, accuracy: 0.97796\n",
      "\t[fold 3] Depth: 22.00, accuracy: 1.00000\n",
      "\t[fold 4] Depth: 22.00, accuracy: 0.99876\n",
      "Depth = 23.00 \n",
      "\t[fold 0] Depth: 23.00, accuracy: 0.97436\n",
      "\t[fold 1] Depth: 23.00, accuracy: 0.97392\n",
      "\t[fold 2] Depth: 23.00, accuracy: 0.97796\n",
      "\t[fold 3] Depth: 23.00, accuracy: 1.00000\n",
      "\t[fold 4] Depth: 23.00, accuracy: 0.99876\n",
      "Depth = 24.00 \n",
      "\t[fold 0] Depth: 24.00, accuracy: 0.97436\n",
      "\t[fold 1] Depth: 24.00, accuracy: 0.97392\n",
      "\t[fold 2] Depth: 24.00, accuracy: 0.97796\n",
      "\t[fold 3] Depth: 24.00, accuracy: 1.00000\n",
      "\t[fold 4] Depth: 24.00, accuracy: 0.99876\n",
      "\n",
      "Random Forest Best Depth: 15\n"
     ]
    }
   ],
   "source": [
    "#refferred to UDA class notebook : https://gist.github.com/emaadmanzoor/0ba78a2920ea0858b54942eff8b08820\n",
    "num_folds = 5\n",
    "k_fold = KFold(num_folds)\n",
    "max_cross_depth_score = -np.inf\n",
    "\n",
    "for depth in range(12,25,1):\n",
    "\n",
    "    fold_scores = []\n",
    "    print(\"Depth = %.2f \" %(depth))\n",
    "    for k, (train, val) in enumerate(k_fold.split(X_train_sm, y_train_sm)):\n",
    "        clf_un = RandomForestClassifier(criterion='entropy', random_state=7, max_depth = depth)\n",
    "        clf_un.fit(X_train_sm[train], y_train_sm[train])\n",
    "\n",
    "        ypred = clf_un.predict(X_train_sm[val])\n",
    "        yval = y_train_sm[val]\n",
    "        accuracy = f1_score(yval, ypred, average='weighted')\n",
    "        fold_scores.append(accuracy)\n",
    "        \n",
    "        print(\"\\t[fold {0}] Depth: {1:.2f}, accuracy: {2:.5f}\".\n",
    "              format(k, depth, accuracy))\n",
    "\n",
    "    cross_val_score = np.mean(fold_scores)\n",
    "    if cross_val_score > max_cross_depth_score:\n",
    "        max_cross_depth_score = cross_val_score\n",
    "        arg_max = depth\n",
    "            \n",
    "best_depth = arg_max\n",
    "print('\\nRandom Forest Best Depth:',best_depth)"
   ]
  },
  {
   "cell_type": "markdown",
   "metadata": {},
   "source": [
    "##### Cross Validation for Ada Boost"
   ]
  },
  {
   "cell_type": "code",
   "execution_count": 26,
   "metadata": {},
   "outputs": [
    {
     "name": "stdout",
     "output_type": "stream",
     "text": [
      "Number of Estimators = 10.00 \n",
      "\t[fold 0] Number of Estimators: 10.00, accuracy: 0.97230\n",
      "\t[fold 1] Number of Estimators: 10.00, accuracy: 0.97052\n",
      "\t[fold 2] Number of Estimators: 10.00, accuracy: 0.97917\n",
      "\t[fold 3] Number of Estimators: 10.00, accuracy: 1.00000\n",
      "\t[fold 4] Number of Estimators: 10.00, accuracy: 0.99876\n",
      "Number of Estimators = 20.00 \n",
      "\t[fold 0] Number of Estimators: 20.00, accuracy: 0.97230\n",
      "\t[fold 1] Number of Estimators: 20.00, accuracy: 0.97052\n",
      "\t[fold 2] Number of Estimators: 20.00, accuracy: 0.97917\n",
      "\t[fold 3] Number of Estimators: 20.00, accuracy: 1.00000\n",
      "\t[fold 4] Number of Estimators: 20.00, accuracy: 0.99876\n",
      "Number of Estimators = 30.00 \n",
      "\t[fold 0] Number of Estimators: 30.00, accuracy: 0.97230\n",
      "\t[fold 1] Number of Estimators: 30.00, accuracy: 0.97052\n",
      "\t[fold 2] Number of Estimators: 30.00, accuracy: 0.97917\n",
      "\t[fold 3] Number of Estimators: 30.00, accuracy: 1.00000\n",
      "\t[fold 4] Number of Estimators: 30.00, accuracy: 0.99876\n",
      "Number of Estimators = 40.00 \n",
      "\t[fold 0] Number of Estimators: 40.00, accuracy: 0.97230\n",
      "\t[fold 1] Number of Estimators: 40.00, accuracy: 0.97052\n",
      "\t[fold 2] Number of Estimators: 40.00, accuracy: 0.97917\n",
      "\t[fold 3] Number of Estimators: 40.00, accuracy: 1.00000\n",
      "\t[fold 4] Number of Estimators: 40.00, accuracy: 0.99876\n",
      "Number of Estimators = 50.00 \n",
      "\t[fold 0] Number of Estimators: 50.00, accuracy: 0.97230\n",
      "\t[fold 1] Number of Estimators: 50.00, accuracy: 0.97052\n",
      "\t[fold 2] Number of Estimators: 50.00, accuracy: 0.97917\n",
      "\t[fold 3] Number of Estimators: 50.00, accuracy: 1.00000\n",
      "\t[fold 4] Number of Estimators: 50.00, accuracy: 0.99876\n",
      "Number of Estimators = 60.00 \n",
      "\t[fold 0] Number of Estimators: 60.00, accuracy: 0.97230\n",
      "\t[fold 1] Number of Estimators: 60.00, accuracy: 0.97052\n",
      "\t[fold 2] Number of Estimators: 60.00, accuracy: 0.97917\n",
      "\t[fold 3] Number of Estimators: 60.00, accuracy: 1.00000\n",
      "\t[fold 4] Number of Estimators: 60.00, accuracy: 0.99876\n",
      "Number of Estimators = 70.00 \n",
      "\t[fold 0] Number of Estimators: 70.00, accuracy: 0.97230\n",
      "\t[fold 1] Number of Estimators: 70.00, accuracy: 0.97052\n",
      "\t[fold 2] Number of Estimators: 70.00, accuracy: 0.97917\n",
      "\t[fold 3] Number of Estimators: 70.00, accuracy: 1.00000\n",
      "\t[fold 4] Number of Estimators: 70.00, accuracy: 0.99876\n",
      "Number of Estimators = 80.00 \n",
      "\t[fold 0] Number of Estimators: 80.00, accuracy: 0.97230\n",
      "\t[fold 1] Number of Estimators: 80.00, accuracy: 0.97052\n",
      "\t[fold 2] Number of Estimators: 80.00, accuracy: 0.97917\n",
      "\t[fold 3] Number of Estimators: 80.00, accuracy: 1.00000\n",
      "\t[fold 4] Number of Estimators: 80.00, accuracy: 0.99876\n",
      "Number of Estimators = 90.00 \n",
      "\t[fold 0] Number of Estimators: 90.00, accuracy: 0.97230\n",
      "\t[fold 1] Number of Estimators: 90.00, accuracy: 0.97052\n",
      "\t[fold 2] Number of Estimators: 90.00, accuracy: 0.97917\n",
      "\t[fold 3] Number of Estimators: 90.00, accuracy: 1.00000\n",
      "\t[fold 4] Number of Estimators: 90.00, accuracy: 0.99876\n",
      "\n",
      "Best Estimator:  10\n"
     ]
    }
   ],
   "source": [
    "#refferred to UDA class notebook : https://gist.github.com/emaadmanzoor/0ba78a2920ea0858b54942eff8b08820\n",
    "num_folds = 5\n",
    "k_fold = KFold(num_folds)\n",
    "max_cross_depth_score = -np.inf\n",
    "\n",
    "for estimators in range(10,100,10):\n",
    "\n",
    "    fold_scores = []\n",
    "    print(\"Number of Estimators = %.2f \" %(estimators))\n",
    "    for k, (train, val) in enumerate(k_fold.split(X_train_sm, y_train_sm)):\n",
    "        clf_ada = AdaBoostClassifier(random_state = 43)\n",
    "        clf_ada.fit(X_train_sm[train], y_train_sm[train])\n",
    "\n",
    "        ypred = clf_ada.predict(X_train_sm[val])\n",
    "        yval = y_train_sm[val]\n",
    "        accuracy = f1_score(yval, ypred, average='weighted')\n",
    "        fold_scores.append(accuracy)\n",
    "        \n",
    "        print(\"\\t[fold {0}] Number of Estimators: {1:.2f}, accuracy: {2:.5f}\".\n",
    "              format(k, estimators, accuracy))\n",
    "\n",
    "    cross_val_score = np.mean(fold_scores)\n",
    "    if cross_val_score > max_cross_depth_score:\n",
    "        max_cross_depth_score = cross_val_score\n",
    "        arg_max = estimators\n",
    "            \n",
    "best_estimators = arg_max\n",
    "print('\\nBest Estimator: ',best_estimators)"
   ]
  },
  {
   "cell_type": "markdown",
   "metadata": {},
   "source": [
    "#### Testing our models"
   ]
  },
  {
   "cell_type": "markdown",
   "metadata": {},
   "source": [
    "Using the optimized hyper parameters learnt from cross validation we tested our models using the test data.  \n",
    "The evaluation metrics used were confusion matrix, accuracy and f1-score. \n",
    "\n",
    "**A) Confusion matrix:** It computes the accuracy of a classification. It counts true negatives, false negatives, true positives, and false positives.  \n",
    "**B) Accuracy:** It determines how well the model performs based on true and predicted labels.  \n",
    "**A) F-1 score:** It computes the weighted average of precision and recall. A score closer to 1 is considered as good and 0 as bad."
   ]
  },
  {
   "cell_type": "code",
   "execution_count": 27,
   "metadata": {},
   "outputs": [
    {
     "name": "stdout",
     "output_type": "stream",
     "text": [
      "********Naive Bayes*********\n",
      "Confusion Matrix\n",
      "[[618  55]\n",
      " [  0  77]]\n",
      "\n",
      "\n",
      "Misclassification Rate 0.07333333333333336\n",
      "Accuracy 0.9266666666666666\n",
      "F1 -score 0.9347536929077147\n",
      "\n",
      "********Logistic Regression*********\n",
      "Confusion Matrix\n",
      "[[620  53]\n",
      " [ 37  40]]\n",
      "\n",
      "\n",
      "Misclassification Rate 0.12\n",
      "Accuracy 0.88\n",
      "F1 -score 0.8849252543122511\n",
      "\n",
      "********Random Forest*********\n",
      "Confusion Matrix\n",
      "[[655  18]\n",
      " [  1  76]]\n",
      "\n",
      "\n",
      "Misclassification Rate 0.02533333333333332\n",
      "Accuracy 0.9746666666666667\n",
      "F1 score 0.9757638993395201\n",
      "\n",
      "********AdaBoost*********\n",
      "\n",
      "Confusion Matrix\n",
      "[[634  39]\n",
      " [  0  77]]\n",
      "\n",
      "\n",
      "Misclassification Rate of  0.052000000000000046\n",
      "Accuracy  0.948\n",
      "F1 score 0.952478063516101\n"
     ]
    }
   ],
   "source": [
    "# Prediction using the best hyper parameter and getting confusion matrix\n",
    "# misclassification, f1 score,  roc curve, false poitive rate, true positive rate\n",
    "# for compaing the differnet models.\n",
    "# Naive Bayes\n",
    "nb = BernoulliNB(alpha = best_alpha)\n",
    "nb.fit(X_train_sm, y_train_sm)\n",
    "# predict_prba - for probability estimates of Xtest\n",
    "ypred_NB_prob = nb.predict_proba(Xtest)\n",
    "\n",
    "# perform classification on array of test vectors\n",
    "ypred_NB= nb.predict(Xtest)\n",
    "\n",
    "print(\"********Naive Bayes*********\")\n",
    "\n",
    "print(\"Confusion Matrix\")\n",
    "cm_NB = confusion_matrix(ytest, ypred_NB)\n",
    "print(cm_NB)\n",
    "print()\n",
    "\n",
    "print()\n",
    "misclassification = 1 - accuracy_score(ytest, ypred_NB)                                      \n",
    "print(\"Misclassification Rate\", misclassification)\n",
    "print(\"Accuracy\", accuracy_score(ytest, ypred_NB))\n",
    "\n",
    "f1_NB = f1_score(ytest, ypred_NB, average='weighted')\n",
    "print(\"F1 -score\", f1_NB)\n",
    "print()\n",
    "\n",
    "# Prediction using the best hyper parameters and getting confusion matrix\n",
    "# misclassification, f1 score,  roc curve, false poitive rate, true positive rate\n",
    "# for compaing the differnet models.\n",
    "# Logistic Regression\n",
    "\n",
    "logisticRegression = LogisticRegression(C=best_C , random_state= 7)\n",
    "logisticRegression.fit(X_train_sm, y_train_sm)\n",
    "\n",
    "ypredict_lr = logisticRegression.predict_proba(Xtest)\n",
    "ypred_lr = logisticRegression.predict(Xtest)\n",
    "\n",
    "print(\"********Logistic Regression*********\")\n",
    "\n",
    "print(\"Confusion Matrix\")\n",
    "cm_lr = confusion_matrix(ytest, ypred_lr)\n",
    "print(cm_lr)\n",
    "print()\n",
    "\n",
    "print()\n",
    "misclassification = 1 - accuracy_score(ytest, ypred_lr)                                      \n",
    "print(\"Misclassification Rate\", misclassification)\n",
    "print(\"Accuracy\", accuracy_score(ytest, ypred_lr))\n",
    "f1_score_lr = f1_score(ytest, ypred_lr, average='weighted')\n",
    "print(\"F1 -score\",f1_score_lr)\n",
    "\n",
    "# Prediction using the best hyper parameters and getting confusion matrix\n",
    "# misclassification, f1 score,  roc curve, false poitive rate, true positive rate\n",
    "# for compaing the differnet models.\n",
    "# Random Forest\n",
    "clf_sm = RandomForestClassifier(criterion=\"entropy\", random_state = 7 , max_depth=best_depth)\n",
    "clf_sm.fit(X_train_sm, y_train_sm)\n",
    "\n",
    "ypredict_rf_smote = clf_sm.predict_proba(Xtest)\n",
    "ypred_rf_smote = clf_sm.predict(Xtest)\n",
    "\n",
    "print()\n",
    "\n",
    "print(\"********Random Forest*********\")\n",
    "\n",
    "print(\"Confusion Matrix\")\n",
    "cm_rf = confusion_matrix(ytest, ypred_rf_smote)\n",
    "print(cm_rf)\n",
    "print()\n",
    "\n",
    "print()\n",
    "misclassification = 1 - accuracy_score(ytest, ypred_rf_smote)                                      \n",
    "print(\"Misclassification Rate\", misclassification)\n",
    "print(\"Accuracy\", accuracy_score(ytest, ypred_rf_smote))\n",
    "f1_score_rf = f1_score(ytest, ypred_rf_smote, average='weighted')\n",
    "print(\"F1 score\",f1_score_rf)\n",
    "\n",
    "\n",
    "clf_ada = AdaBoostClassifier(n_estimators = best_estimators , random_state = 43)\n",
    "clf_ada.fit(X_train_sm, y_train_sm)\n",
    "\n",
    "ypredict_ada_smote = y_score_ada = clf_ada.predict_proba(Xtest)\n",
    "ypred_ada_smote = clf_ada.predict(Xtest)\n",
    "\n",
    "print()\n",
    "print(\"********AdaBoost*********\")\n",
    "\n",
    "print()\n",
    "print(\"Confusion Matrix\")\n",
    "cm_ada = confusion_matrix(ytest, ypred_ada_smote)\n",
    "print(cm_ada)\n",
    "print()\n",
    "\n",
    "print()\n",
    "misclassification = 1 - accuracy_score(ytest, ypred_ada_smote)                                      \n",
    "print(\"Misclassification Rate of \", misclassification)\n",
    "print(\"Accuracy \", accuracy_score(ytest, ypred_ada_smote))\n",
    "f1_score_svm = f1_score(ytest, ypred_ada_smote, average='weighted')\n",
    "print(\"F1 score\",f1_score_svm)"
   ]
  },
  {
   "cell_type": "markdown",
   "metadata": {},
   "source": [
    "**Conclusion:**   \n",
    "From the above models we can clearly see \n",
    "\n",
    "**Accuracy Scores**: Random Forest > Adaboost > Naive Bayes > Logistic Regression  \n",
    "**F1 Scores**:       Random Forest > Adaboost > Naive Bayes > Logistic Regression\n",
    "  \n",
    "The confusion matrices also depict how the true negatives, false negatives, true positives, and false positive are represented.\n",
    "A good classifier will have high true positives and true negatives which is seen for Random Forests. \n",
    "\n",
    "Overall, **Random Forests** performs the best. \n",
    "  \n",
    "In general, we observe that **Random Forests** and **Adaboost** *(Ensemble methods)* perform better than **Naive Bayes** and **Logistic Regression** *(Weak Learners)*.**Logistic Regression** our baseline model performs the worst in this scenario. "
   ]
  },
  {
   "cell_type": "markdown",
   "metadata": {},
   "source": [
    "#### ROC curve"
   ]
  },
  {
   "cell_type": "markdown",
   "metadata": {},
   "source": [
    "The Receiver operating characteristic (ROC) curve represents the False positive Rate to True positive Rate. A Low False Positive Rate and High True positive Rate is desired by a good classifier."
   ]
  },
  {
   "cell_type": "code",
   "execution_count": 28,
   "metadata": {},
   "outputs": [
    {
     "data": {
      "image/png": "[encoded data removed]",
      "text/plain": [
       "<matplotlib.figure.Figure at 0x2794bd94358>"
      ]
     },
     "metadata": {},
     "output_type": "display_data"
    }
   ],
   "source": [
    "plt.figure(figsize=(10,7))\n",
    "\n",
    "fpr, tpr, thresholds = roc_curve(np.array(ytest).astype(int), ypred_NB_prob[:,1])\n",
    "auc = np.trapz(tpr, fpr)\n",
    "plt.plot(fpr, tpr, label=\"NB =\" + str(round(auc,3)))\n",
    "\n",
    "fpr, tpr, thresholds = roc_curve(np.array(ytest).astype(int), ypredict_lr [:,1])\n",
    "auc = np.trapz(tpr, fpr)\n",
    "plt.plot(fpr, tpr, label=\"LR = \" + str(round(auc,3)))\n",
    "\n",
    "fpr, tpr, thresholds = roc_curve(np.array(ytest).astype(int), ypredict_rf_smote[:,1])\n",
    "auc = np.trapz(tpr, fpr)\n",
    "plt.plot(fpr, tpr, label=\"RF=\" + str(round(auc,3)))\n",
    "\n",
    "fpr, tpr, thresholds = roc_curve(np.array(ytest).astype(int), np.array(ypredict_ada_smote[:,1]).ravel())\n",
    "auc = np.trapz(tpr, fpr)\n",
    "plt.plot(fpr, tpr, label=\"AUC ADA =\" + str(round(auc,3)))\n",
    "\n",
    "plt.title(\"ROC curve\")\n",
    "plt.xlabel(\"FPR\")\n",
    "plt.ylabel(\"TPR\")\n",
    "plt.grid(b=True)\n",
    "plt.legend()\n",
    "plt.show()"
   ]
  },
  {
   "cell_type": "markdown",
   "metadata": {},
   "source": [
    "**Conclusion :** ROC curve of Adaboost > Random Forests > Naive Bayes > Logistic Regression.  \n",
    "                 Adaboost in this case seems to achieve close to perfection. "
   ]
  },
  {
   "cell_type": "markdown",
   "metadata": {},
   "source": [
    "#### Precision-Recall curve"
   ]
  },
  {
   "cell_type": "markdown",
   "metadata": {},
   "source": [
    "Precision recall curves  measure the sucess of a prediction when classes are imbalanced. It measures the precision and recall at various threshold.   \n",
    "  \n",
    "A high precision represents low false positive rate, and a high recall represents a low false negative rate."
   ]
  },
  {
   "cell_type": "code",
   "execution_count": 29,
   "metadata": {},
   "outputs": [
    {
     "data": {
      "image/png": "[encoded data removed]",
      "text/plain": [
       "<matplotlib.figure.Figure at 0x2794bd946d8>"
      ]
     },
     "metadata": {},
     "output_type": "display_data"
    }
   ],
   "source": [
    "plt.figure(figsize=(10,7))\n",
    "\n",
    "precision, recall, _ = precision_recall_curve(np.array(ytest).astype(int), ypred_NB_prob[:,1])\n",
    "plt.plot(recall, precision, label=\"Avg NB prec =\" + str(round(average_precision_score(np.array(ytest).astype(int),ypred_NB_prob[:,1]),2)))\n",
    "\n",
    "precision, recall, _ = precision_recall_curve(np.array(ytest).astype(int), ypredict_lr[:,1])\n",
    "plt.plot(recall, precision, label=\"Avg LR prec =\" + str(round(average_precision_score(np.array(ytest).astype(int),ypredict_lr[:,1]),2)))\n",
    "\n",
    "precision, recall, _ = precision_recall_curve(np.array(ytest).astype(int), ypredict_rf_smote[:,1])\n",
    "plt.plot(recall, precision, label=\"Avg RF prec =\" +str(round(average_precision_score(np.array(ytest).astype(int),ypredict_rf_smote[:,1]),2)))\n",
    "\n",
    "precision, recall, _ = precision_recall_curve(np.array(ytest).astype(int), ypredict_ada_smote[:,1])\n",
    "plt.plot(recall, precision, label=\"Avg ADA prec =\" + str(round(average_precision_score(np.array(ytest).astype(int),ypredict_ada_smote[:,1]),2)))\n",
    "\n",
    "plt.title(\"Precision-Recall curve\")\n",
    "plt.xlabel(\"Recall\")\n",
    "plt.ylabel(\"Precision\")\n",
    "plt.grid(b=True)\n",
    "plt.legend()\n",
    "plt.show() "
   ]
  },
  {
   "cell_type": "markdown",
   "metadata": {},
   "source": [
    "**Conclusion :** PR curve of Random Forests > Adaboost > Naive Bayes > Logistic Regression"
   ]
  },
  {
   "cell_type": "markdown",
   "metadata": {},
   "source": [
    "#### Relative importance of features"
   ]
  },
  {
   "cell_type": "markdown",
   "metadata": {},
   "source": [
    "Since Random Forests provides us with a list of important features we can visualize this in the below plot"
   ]
  },
  {
   "cell_type": "code",
   "execution_count": 30,
   "metadata": {},
   "outputs": [
    {
     "name": "stdout",
     "output_type": "stream",
     "text": [
      "\n",
      "Top 10 Features according to importance\n",
      "\n"
     ]
    },
    {
     "data": {
      "text/html": [
       "<table>\n",
       "<tbody>\n",
       "<tr><td>Rank</td><td>Column Name     </td></tr>\n",
       "<tr><td>1   </td><td>Src Bytes       </td></tr>\n",
       "<tr><td>2   </td><td>Dst Bytes       </td></tr>\n",
       "<tr><td>3   </td><td>Duration        </td></tr>\n",
       "<tr><td>4   </td><td>Service Private </td></tr>\n",
       "<tr><td>5   </td><td>Flag S0         </td></tr>\n",
       "<tr><td>6   </td><td>Logged In       </td></tr>\n",
       "<tr><td>7   </td><td>Flag SF         </td></tr>\n",
       "<tr><td>8   </td><td>Service FTP     </td></tr>\n",
       "<tr><td>9   </td><td>Is Guest Login  </td></tr>\n",
       "<tr><td>10  </td><td>Service FTP Data</td></tr>\n",
       "</tbody>\n",
       "</table>"
      ],
      "text/plain": [
       "<IPython.core.display.HTML object>"
      ]
     },
     "metadata": {},
     "output_type": "display_data"
    }
   ],
   "source": [
    "print(\"\\nTop 10 Features according to importance\\n\")\n",
    "table = [[\"Rank\",\"Column Name\"],\n",
    "         [\"1\",\"Src Bytes\"],\n",
    "         [\"2\",\"Dst Bytes\"],\n",
    "         [\"3\",\"Duration\"],\n",
    "         [\"4\",\"Service Private\"],\n",
    "         [\"5\",\"Flag S0\"],\n",
    "         [\"6\",\"Logged In\"],\n",
    "         [\"7\",\"Flag SF\"],\n",
    "         [\"8\",\"Service FTP\"],\n",
    "         [\"9\",\"Is Guest Login\"],\n",
    "         [\"10\",\"Service FTP Data\"]]\n",
    "display(HTML(tabulate.tabulate(table, tablefmt='html')))"
   ]
  },
  {
   "cell_type": "code",
   "execution_count": 31,
   "metadata": {
    "collapsed": true
   },
   "outputs": [],
   "source": [
    "features = Xdata.columns\n",
    "importances = clf_sm.feature_importances_\n",
    "indices = np.argsort(importances)\n",
    "\n",
    "important_features = {}\n",
    "for idx in indices:\n",
    "     if(importances[idx] > 0):\n",
    "        important_features[features[idx]] = importances[idx]"
   ]
  },
  {
   "cell_type": "code",
   "execution_count": 32,
   "metadata": {},
   "outputs": [
    {
     "data": {
      "image/png": "[encoded data removed]",
      "text/plain": [
       "<matplotlib.figure.Figure at 0x2794b3c0278>"
      ]
     },
     "metadata": {},
     "output_type": "display_data"
    }
   ],
   "source": [
    "plt.figure(figsize=(10,8))\n",
    "plt.barh(range(len(important_features)), list(important_features.values()), align='center')\n",
    "plt.yticks(range(len(important_features)), list(important_features.keys()))\n",
    "plt.title(\"Feature Importance\")\n",
    "plt.xlabel(\"Importance value(0 - 1)\")\n",
    "plt.ylabel(\"Labels\")\n",
    "plt.show()"
   ]
  },
  {
   "cell_type": "markdown",
   "metadata": {},
   "source": [
    "### Unsupervised Learning - Hierarchial Clustering and K-Means Clustering"
   ]
  },
  {
   "cell_type": "markdown",
   "metadata": {},
   "source": [
    "After, sucessfully performing Supervised Learning to predict whether there was an intrusion or not. We wanted to analyze what are the types of attacks present in the network intrusion data. Our next step was using various clustering techniques in Unsupervised Machine Learning to identify the various types of attacks."
   ]
  },
  {
   "cell_type": "markdown",
   "metadata": {},
   "source": [
    "#### Pre-processing Steps"
   ]
  },
  {
   "cell_type": "markdown",
   "metadata": {},
   "source": [
    "**STEP 1 :** Subset the Network data to now include rows only containing intrusion relevant data. This is done because we are interested in identifying patterns in the intrusion relevant data and not the entire network dataset. "
   ]
  },
  {
   "cell_type": "code",
   "execution_count": 33,
   "metadata": {
    "collapsed": true
   },
   "outputs": [],
   "source": [
    "network_data_intrusion = network_data_one_hot_encoded.loc[network_data_one_hot_encoded['is_intrusion'] == '1']\n",
    "network_data_intrusion.reset_index();"
   ]
  },
  {
   "cell_type": "markdown",
   "metadata": {},
   "source": [
    "**STEP 2 :** Additionally, since we had 36 features building a model with all these features would make it complex. We choose to describe the data and remove those columns which had zeros or constant variance.  "
   ]
  },
  {
   "cell_type": "code",
   "execution_count": 34,
   "metadata": {},
   "outputs": [
    {
     "data": {
      "text/html": [
       "<div>\n",
       "<style scoped>\n",
       "    .dataframe tbody tr th:only-of-type {\n",
       "        vertical-align: middle;\n",
       "    }\n",
       "\n",
       "    .dataframe tbody tr th {\n",
       "        vertical-align: top;\n",
       "    }\n",
       "\n",
       "    .dataframe thead th {\n",
       "        text-align: right;\n",
       "    }\n",
       "</style>\n",
       "<table border=\"1\" class=\"dataframe\">\n",
       "  <thead>\n",
       "    <tr style=\"text-align: right;\">\n",
       "      <th></th>\n",
       "      <th>duration</th>\n",
       "      <th>src_bytes</th>\n",
       "      <th>dst_bytes</th>\n",
       "      <th>hot</th>\n",
       "      <th>logged_in</th>\n",
       "      <th>num_compromised</th>\n",
       "      <th>root_shell</th>\n",
       "      <th>su_attempted</th>\n",
       "      <th>num_root</th>\n",
       "      <th>num_file_creations</th>\n",
       "      <th>...</th>\n",
       "      <th>service_smtp</th>\n",
       "      <th>service_telnet</th>\n",
       "      <th>service_time</th>\n",
       "      <th>service_urp_i</th>\n",
       "      <th>flag_REJ</th>\n",
       "      <th>flag_RSTO</th>\n",
       "      <th>flag_RSTR</th>\n",
       "      <th>flag_S0</th>\n",
       "      <th>flag_S3</th>\n",
       "      <th>flag_SF</th>\n",
       "    </tr>\n",
       "  </thead>\n",
       "  <tbody>\n",
       "    <tr>\n",
       "      <th>count</th>\n",
       "      <td>300.000000</td>\n",
       "      <td>300.000000</td>\n",
       "      <td>300.000000</td>\n",
       "      <td>300.000000</td>\n",
       "      <td>300.000000</td>\n",
       "      <td>300.0</td>\n",
       "      <td>300.0</td>\n",
       "      <td>300.0</td>\n",
       "      <td>300.000000</td>\n",
       "      <td>300.0</td>\n",
       "      <td>...</td>\n",
       "      <td>300.0</td>\n",
       "      <td>300.0</td>\n",
       "      <td>300.0</td>\n",
       "      <td>300.0</td>\n",
       "      <td>300.0</td>\n",
       "      <td>300.0</td>\n",
       "      <td>300.000000</td>\n",
       "      <td>300.000000</td>\n",
       "      <td>300.000000</td>\n",
       "      <td>300.000000</td>\n",
       "    </tr>\n",
       "    <tr>\n",
       "      <th>mean</th>\n",
       "      <td>375.356120</td>\n",
       "      <td>41320.930000</td>\n",
       "      <td>113.416667</td>\n",
       "      <td>0.236667</td>\n",
       "      <td>0.336667</td>\n",
       "      <td>0.0</td>\n",
       "      <td>0.0</td>\n",
       "      <td>0.0</td>\n",
       "      <td>0.003333</td>\n",
       "      <td>0.0</td>\n",
       "      <td>...</td>\n",
       "      <td>0.0</td>\n",
       "      <td>0.0</td>\n",
       "      <td>0.0</td>\n",
       "      <td>0.0</td>\n",
       "      <td>0.0</td>\n",
       "      <td>0.0</td>\n",
       "      <td>0.216667</td>\n",
       "      <td>0.110000</td>\n",
       "      <td>0.006667</td>\n",
       "      <td>0.666667</td>\n",
       "    </tr>\n",
       "    <tr>\n",
       "      <th>std</th>\n",
       "      <td>466.545447</td>\n",
       "      <td>84734.594005</td>\n",
       "      <td>182.626278</td>\n",
       "      <td>0.644495</td>\n",
       "      <td>0.473359</td>\n",
       "      <td>0.0</td>\n",
       "      <td>0.0</td>\n",
       "      <td>0.0</td>\n",
       "      <td>0.057735</td>\n",
       "      <td>0.0</td>\n",
       "      <td>...</td>\n",
       "      <td>0.0</td>\n",
       "      <td>0.0</td>\n",
       "      <td>0.0</td>\n",
       "      <td>0.0</td>\n",
       "      <td>0.0</td>\n",
       "      <td>0.0</td>\n",
       "      <td>0.412662</td>\n",
       "      <td>0.313413</td>\n",
       "      <td>0.081513</td>\n",
       "      <td>0.472192</td>\n",
       "    </tr>\n",
       "    <tr>\n",
       "      <th>min</th>\n",
       "      <td>2.000000</td>\n",
       "      <td>0.000000</td>\n",
       "      <td>0.000000</td>\n",
       "      <td>0.000000</td>\n",
       "      <td>0.000000</td>\n",
       "      <td>0.0</td>\n",
       "      <td>0.0</td>\n",
       "      <td>0.0</td>\n",
       "      <td>0.000000</td>\n",
       "      <td>0.0</td>\n",
       "      <td>...</td>\n",
       "      <td>0.0</td>\n",
       "      <td>0.0</td>\n",
       "      <td>0.0</td>\n",
       "      <td>0.0</td>\n",
       "      <td>0.0</td>\n",
       "      <td>0.0</td>\n",
       "      <td>0.000000</td>\n",
       "      <td>0.000000</td>\n",
       "      <td>0.000000</td>\n",
       "      <td>0.000000</td>\n",
       "    </tr>\n",
       "    <tr>\n",
       "      <th>25%</th>\n",
       "      <td>118.117372</td>\n",
       "      <td>105.000000</td>\n",
       "      <td>0.000000</td>\n",
       "      <td>0.000000</td>\n",
       "      <td>0.000000</td>\n",
       "      <td>0.0</td>\n",
       "      <td>0.0</td>\n",
       "      <td>0.0</td>\n",
       "      <td>0.000000</td>\n",
       "      <td>0.0</td>\n",
       "      <td>...</td>\n",
       "      <td>0.0</td>\n",
       "      <td>0.0</td>\n",
       "      <td>0.0</td>\n",
       "      <td>0.0</td>\n",
       "      <td>0.0</td>\n",
       "      <td>0.0</td>\n",
       "      <td>0.000000</td>\n",
       "      <td>0.000000</td>\n",
       "      <td>0.000000</td>\n",
       "      <td>0.000000</td>\n",
       "    </tr>\n",
       "    <tr>\n",
       "      <th>50%</th>\n",
       "      <td>118.117372</td>\n",
       "      <td>105.000000</td>\n",
       "      <td>0.000000</td>\n",
       "      <td>0.000000</td>\n",
       "      <td>0.000000</td>\n",
       "      <td>0.0</td>\n",
       "      <td>0.0</td>\n",
       "      <td>0.0</td>\n",
       "      <td>0.000000</td>\n",
       "      <td>0.0</td>\n",
       "      <td>...</td>\n",
       "      <td>0.0</td>\n",
       "      <td>0.0</td>\n",
       "      <td>0.0</td>\n",
       "      <td>0.0</td>\n",
       "      <td>0.0</td>\n",
       "      <td>0.0</td>\n",
       "      <td>0.000000</td>\n",
       "      <td>0.000000</td>\n",
       "      <td>0.000000</td>\n",
       "      <td>1.000000</td>\n",
       "    </tr>\n",
       "    <tr>\n",
       "      <th>75%</th>\n",
       "      <td>282.000000</td>\n",
       "      <td>57964.000000</td>\n",
       "      <td>146.000000</td>\n",
       "      <td>0.000000</td>\n",
       "      <td>1.000000</td>\n",
       "      <td>0.0</td>\n",
       "      <td>0.0</td>\n",
       "      <td>0.0</td>\n",
       "      <td>0.000000</td>\n",
       "      <td>0.0</td>\n",
       "      <td>...</td>\n",
       "      <td>0.0</td>\n",
       "      <td>0.0</td>\n",
       "      <td>0.0</td>\n",
       "      <td>0.0</td>\n",
       "      <td>0.0</td>\n",
       "      <td>0.0</td>\n",
       "      <td>0.000000</td>\n",
       "      <td>0.000000</td>\n",
       "      <td>0.000000</td>\n",
       "      <td>1.000000</td>\n",
       "    </tr>\n",
       "    <tr>\n",
       "      <th>max</th>\n",
       "      <td>2100.000000</td>\n",
       "      <td>283618.000000</td>\n",
       "      <td>601.000000</td>\n",
       "      <td>2.000000</td>\n",
       "      <td>1.000000</td>\n",
       "      <td>0.0</td>\n",
       "      <td>0.0</td>\n",
       "      <td>0.0</td>\n",
       "      <td>1.000000</td>\n",
       "      <td>0.0</td>\n",
       "      <td>...</td>\n",
       "      <td>0.0</td>\n",
       "      <td>0.0</td>\n",
       "      <td>0.0</td>\n",
       "      <td>0.0</td>\n",
       "      <td>0.0</td>\n",
       "      <td>0.0</td>\n",
       "      <td>1.000000</td>\n",
       "      <td>1.000000</td>\n",
       "      <td>1.000000</td>\n",
       "      <td>1.000000</td>\n",
       "    </tr>\n",
       "  </tbody>\n",
       "</table>\n",
       "<p>8 rows × 38 columns</p>\n",
       "</div>"
      ],
      "text/plain": [
       "          duration      src_bytes   dst_bytes         hot   logged_in  \\\n",
       "count   300.000000     300.000000  300.000000  300.000000  300.000000   \n",
       "mean    375.356120   41320.930000  113.416667    0.236667    0.336667   \n",
       "std     466.545447   84734.594005  182.626278    0.644495    0.473359   \n",
       "min       2.000000       0.000000    0.000000    0.000000    0.000000   \n",
       "25%     118.117372     105.000000    0.000000    0.000000    0.000000   \n",
       "50%     118.117372     105.000000    0.000000    0.000000    0.000000   \n",
       "75%     282.000000   57964.000000  146.000000    0.000000    1.000000   \n",
       "max    2100.000000  283618.000000  601.000000    2.000000    1.000000   \n",
       "\n",
       "       num_compromised  root_shell  su_attempted    num_root  \\\n",
       "count            300.0       300.0         300.0  300.000000   \n",
       "mean               0.0         0.0           0.0    0.003333   \n",
       "std                0.0         0.0           0.0    0.057735   \n",
       "min                0.0         0.0           0.0    0.000000   \n",
       "25%                0.0         0.0           0.0    0.000000   \n",
       "50%                0.0         0.0           0.0    0.000000   \n",
       "75%                0.0         0.0           0.0    0.000000   \n",
       "max                0.0         0.0           0.0    1.000000   \n",
       "\n",
       "       num_file_creations     ...      service_smtp  service_telnet  \\\n",
       "count               300.0     ...             300.0           300.0   \n",
       "mean                  0.0     ...               0.0             0.0   \n",
       "std                   0.0     ...               0.0             0.0   \n",
       "min                   0.0     ...               0.0             0.0   \n",
       "25%                   0.0     ...               0.0             0.0   \n",
       "50%                   0.0     ...               0.0             0.0   \n",
       "75%                   0.0     ...               0.0             0.0   \n",
       "max                   0.0     ...               0.0             0.0   \n",
       "\n",
       "       service_time  service_urp_i  flag_REJ  flag_RSTO   flag_RSTR  \\\n",
       "count         300.0          300.0     300.0      300.0  300.000000   \n",
       "mean            0.0            0.0       0.0        0.0    0.216667   \n",
       "std             0.0            0.0       0.0        0.0    0.412662   \n",
       "min             0.0            0.0       0.0        0.0    0.000000   \n",
       "25%             0.0            0.0       0.0        0.0    0.000000   \n",
       "50%             0.0            0.0       0.0        0.0    0.000000   \n",
       "75%             0.0            0.0       0.0        0.0    0.000000   \n",
       "max             0.0            0.0       0.0        0.0    1.000000   \n",
       "\n",
       "          flag_S0     flag_S3     flag_SF  \n",
       "count  300.000000  300.000000  300.000000  \n",
       "mean     0.110000    0.006667    0.666667  \n",
       "std      0.313413    0.081513    0.472192  \n",
       "min      0.000000    0.000000    0.000000  \n",
       "25%      0.000000    0.000000    0.000000  \n",
       "50%      0.000000    0.000000    1.000000  \n",
       "75%      0.000000    0.000000    1.000000  \n",
       "max      1.000000    1.000000    1.000000  \n",
       "\n",
       "[8 rows x 38 columns]"
      ]
     },
     "execution_count": 34,
     "metadata": {},
     "output_type": "execute_result"
    }
   ],
   "source": [
    "network_data_intrusion.describe()"
   ]
  },
  {
   "cell_type": "code",
   "execution_count": 35,
   "metadata": {},
   "outputs": [
    {
     "name": "stdout",
     "output_type": "stream",
     "text": [
      "\n",
      "Columns to be Deleted\n",
      "\n"
     ]
    },
    {
     "data": {
      "text/html": [
       "<table>\n",
       "<tbody>\n",
       "<tr><td>Column</td><td>Column Name       </td></tr>\n",
       "<tr><td>1     </td><td>Num compromised   </td></tr>\n",
       "<tr><td>2     </td><td>Root Shell        </td></tr>\n",
       "<tr><td>3     </td><td>Num File creations</td></tr>\n",
       "<tr><td>4     </td><td>Num Access files  </td></tr>\n",
       "<tr><td>5     </td><td>Protocol type icmp</td></tr>\n",
       "<tr><td>6     </td><td>Service auth      </td></tr>\n",
       "<tr><td>7     </td><td>Service domain u  </td></tr>\n",
       "<tr><td>8     </td><td>Service_eco_i     </td></tr>\n",
       "<tr><td>9     </td><td>Service_ecr_i     </td></tr>\n",
       "<tr><td>10    </td><td>Service_finger    </td></tr>\n",
       "<tr><td>11    </td><td>Service_ntp_u     </td></tr>\n",
       "<tr><td>12    </td><td>Service_other     </td></tr>\n",
       "<tr><td>13    </td><td>Service_pop_3     </td></tr>\n",
       "<tr><td>14    </td><td>Service_smtp      </td></tr>\n",
       "<tr><td>15    </td><td>Service_telnet    </td></tr>\n",
       "<tr><td>16    </td><td>Service_time      </td></tr>\n",
       "<tr><td>17    </td><td>Service_urp_i     </td></tr>\n",
       "<tr><td>18    </td><td>Flag_REJ          </td></tr>\n",
       "<tr><td>19    </td><td>Flag_RSTO         </td></tr>\n",
       "</tbody>\n",
       "</table>"
      ],
      "text/plain": [
       "<IPython.core.display.HTML object>"
      ]
     },
     "metadata": {},
     "output_type": "display_data"
    }
   ],
   "source": [
    "print(\"\\nColumns to be Deleted\\n\")\n",
    "table = [[\"Column\",\"Column Name\"],\n",
    "         [\"1\",\"Num compromised\"],\n",
    "         [\"2\",\"Root Shell\"],\n",
    "         [\"3\",\"Num File creations\"],\n",
    "         [\"4\",\"Num Access files\"],\n",
    "         [\"5\",\"Protocol type icmp\"],\n",
    "         [\"6\",\"Service auth\"],\n",
    "         [\"7\",\"Service domain u\"],\n",
    "         [\"8\",\"Service_eco_i\"],\n",
    "         [\"9\",\"Service_ecr_i\"],\n",
    "         [\"10\",\"Service_finger\"],\n",
    "         [\"11\",\"Service_ntp_u\"],\n",
    "         [\"12\",\" Service_other\"],\n",
    "         [\"13\",\" Service_pop_3\"],\n",
    "         [\"14\",\"Service_smtp\"],\n",
    "         [\"15\",\"Service_telnet\"],\n",
    "         [\"16\",\"Service_time\"],\n",
    "         [\"17\",\"Service_urp_i\"],\n",
    "         [\"18\",\"Flag_REJ\"],\n",
    "         [\"19\",\"Flag_RSTO\"]]\n",
    "display(HTML(tabulate.tabulate(table, tablefmt='html')))"
   ]
  },
  {
   "cell_type": "code",
   "execution_count": 36,
   "metadata": {},
   "outputs": [
    {
     "name": "stdout",
     "output_type": "stream",
     "text": [
      "Remaining Columns are\n",
      "\n",
      "duration\n",
      "src_bytes\n",
      "dst_bytes\n",
      "hot\n",
      "logged_in\n",
      "su_attempted\n",
      "num_root\n",
      "is_guest_login\n",
      "protocol_type_tcp\n",
      "protocol_type_udp\n",
      "service_ftp\n",
      "service_ftp_data\n",
      "service_http\n",
      "service_private\n",
      "flag_RSTR\n",
      "flag_S0\n",
      "flag_S3\n",
      "flag_SF\n"
     ]
    }
   ],
   "source": [
    "(network_data_intrusion.drop(['num_compromised','root_shell','num_file_creations','num_shells','num_access_files',\n",
    "                             'protocol_type_icmp','service_auth','service_domain_u','service_eco_i','service_ecr_i',\n",
    "                              'service_finger','service_ntp_u','service_other','service_pop_3',\n",
    "                             'service_smtp','service_telnet','service_time','service_urp_i','flag_REJ','flag_RSTO'], \n",
    "                              axis = 1, inplace = True))\n",
    "\n",
    "network_data_intrusion.drop(['is_intrusion'], axis = 1, inplace = True)\n",
    "\n",
    "print(\"Remaining Columns are\\n\")\n",
    "columns = network_data_intrusion.columns.get_values()\n",
    "for i in range(len(columns)):\n",
    "    print(columns[i])"
   ]
  },
  {
   "cell_type": "markdown",
   "metadata": {},
   "source": [
    "**STEP 3 :** Since we are performing Clustering which makes use distance metrics, it is important to standardize the data \n",
    "to ensure every data point is represented equally when computing respective clusters"
   ]
  },
  {
   "cell_type": "code",
   "execution_count": 37,
   "metadata": {
    "collapsed": true
   },
   "outputs": [],
   "source": [
    "scaler = StandardScaler()\n",
    "Xdata_new_d = scaler.fit_transform(network_data_intrusion)"
   ]
  },
  {
   "cell_type": "markdown",
   "metadata": {},
   "source": [
    "#### Clustering"
   ]
  },
  {
   "cell_type": "markdown",
   "metadata": {},
   "source": [
    "We will explore two different Clustering Techniques  \n",
    "      \n",
    "a) Hierarchical Clustering Algorithms : Joins similar cluster pairs untill there is only one main cluster. Underwhich we will observe the below techniques.\n",
    "    \n",
    "      i) Single-Linkage Clustering :  Measures the minimum distance between a cluster point and its neighbouring cluster.\n",
    "     ii) Complete Linkage Clustering: Measures the maximum distance between their furthest members of two clusters.  \n",
    "    iii) Average Linkage Clustering : Measures the average distance between all cluster pairs  \n",
    "\n",
    "b) Partition Algorithms  : This algorithm creates K clusters using N objects.\n",
    "    \n",
    "      i) K-Means : Performs Clustering into K clusters using a user specified K."
   ]
  },
  {
   "cell_type": "markdown",
   "metadata": {},
   "source": [
    "#### Hierarchial Clustering"
   ]
  },
  {
   "cell_type": "markdown",
   "metadata": {},
   "source": [
    "We referred to Tutorial : https://joernhees.de/blog/2015/08/26/scipy-hierarchical-clustering-and-dendrogram-tutorial/ to understand Hierarchial Clustering. The code below has done in reference to the blog."
   ]
  },
  {
   "cell_type": "markdown",
   "metadata": {},
   "source": [
    "##### a) Single Linkage Hierarchial Clustering"
   ]
  },
  {
   "cell_type": "markdown",
   "metadata": {},
   "source": [
    "Measures the minimum distance between a cluster point and its neighbouring cluster. The distance taken in this case was 'Euclidean distance'."
   ]
  },
  {
   "cell_type": "code",
   "execution_count": 38,
   "metadata": {
    "collapsed": true
   },
   "outputs": [],
   "source": [
    "singleLinkage = linkage(Xdata_new_d, 'single')"
   ]
  },
  {
   "cell_type": "markdown",
   "metadata": {},
   "source": [
    "We use Cophenetic Correlation Coefficient to compare actual pairwise distances of our samples to those created by\n",
    "single linkage hierarchical clustering. "
   ]
  },
  {
   "cell_type": "code",
   "execution_count": 39,
   "metadata": {},
   "outputs": [
    {
     "name": "stdout",
     "output_type": "stream",
     "text": [
      " Cophenetic Correlation Coefficient  0.9829589555281675\n"
     ]
    }
   ],
   "source": [
    "csingle, coph_dists = cophenet(singleLinkage, pdist(Xdata_new_d))\n",
    "print(\" Cophenetic Correlation Coefficient \",csingle)"
   ]
  },
  {
   "cell_type": "markdown",
   "metadata": {},
   "source": [
    "The closer the value is to 1 the better the clustering preserves original distances"
   ]
  },
  {
   "cell_type": "markdown",
   "metadata": {},
   "source": [
    "Next, we proceed to plot the dendograms to view how the clusters were merged during the Single Linkage Hierarchial Clustering."
   ]
  },
  {
   "cell_type": "code",
   "execution_count": 40,
   "metadata": {},
   "outputs": [
    {
     "data": {
      "image/png": "[encoded data removed]",
      "text/plain": [
       "<matplotlib.figure.Figure at 0x2794aef9f60>"
      ]
     },
     "metadata": {},
     "output_type": "display_data"
    }
   ],
   "source": [
    "plt.figure(figsize=(10, 10))\n",
    "plt.title('Single Linkage Hierarchical Clustering Dendrogram')\n",
    "plt.xlabel('sample index')\n",
    "plt.ylabel('distance')\n",
    "dendrogram(\n",
    "    singleLinkage,\n",
    "    leaf_rotation=90.,  # rotates the x axis labels\n",
    "    leaf_font_size=8.,  # font size for the x axis labels\n",
    "    \n",
    ")\n",
    "plt.show()"
   ]
  },
  {
   "cell_type": "markdown",
   "metadata": {},
   "source": [
    "**Conclusion :** From the dendogram we observe that there are around 3 clusters. However, we cannot clearly identify the clusters."
   ]
  },
  {
   "cell_type": "markdown",
   "metadata": {},
   "source": [
    "##### b) Complete Linkage Hierarchial Clustering"
   ]
  },
  {
   "cell_type": "markdown",
   "metadata": {},
   "source": [
    "Measures the maximum distance between their furthest members of two clusters. The distance taken in this case was 'Euclidean distance'."
   ]
  },
  {
   "cell_type": "code",
   "execution_count": 41,
   "metadata": {
    "collapsed": true
   },
   "outputs": [],
   "source": [
    "completeLinkage = linkage(Xdata_new_d, 'complete')"
   ]
  },
  {
   "cell_type": "markdown",
   "metadata": {},
   "source": [
    "We use Cophenetic Correlation Coefficient to compare actual pairwise distances of our samples to those created by \n",
    "complete linkage hierarchical clustering."
   ]
  },
  {
   "cell_type": "code",
   "execution_count": 42,
   "metadata": {},
   "outputs": [
    {
     "name": "stdout",
     "output_type": "stream",
     "text": [
      " Cophenetic Correlation Coefficient  0.9713596218220847\n"
     ]
    }
   ],
   "source": [
    "ccomplete, coph_dists = cophenet(completeLinkage, pdist(Xdata_new_d))\n",
    "print(\" Cophenetic Correlation Coefficient \",ccomplete)"
   ]
  },
  {
   "cell_type": "markdown",
   "metadata": {},
   "source": [
    "The closer the value is to 1 the better the clustering preserves original distances\n",
    "  \n",
    "Next, we proceed to plot the dendograms to view how the clusters were merged during the Complete Linkage Hierarchial Clustering."
   ]
  },
  {
   "cell_type": "code",
   "execution_count": 43,
   "metadata": {},
   "outputs": [
    {
     "data": {
      "image/png": "[encoded data removed]",
      "text/plain": [
       "<matplotlib.figure.Figure at 0x2794b186080>"
      ]
     },
     "metadata": {},
     "output_type": "display_data"
    }
   ],
   "source": [
    "plt.figure(figsize=(10, 10))\n",
    "plt.title('Complete Linkage Hierarchical Clustering Dendrogram')\n",
    "plt.xlabel('sample index')\n",
    "plt.ylabel('distance')\n",
    "dendrogram(\n",
    "    completeLinkage,\n",
    "    leaf_rotation=90.,  # rotates the x axis labels\n",
    "    leaf_font_size=8.,  # font size for the x axis labels\n",
    ")\n",
    "plt.show()"
   ]
  },
  {
   "cell_type": "markdown",
   "metadata": {},
   "source": [
    "**Conclusion :** From the dendogram we observe that there are around 3 clusters. However, we cannot clearly identify the clusters"
   ]
  },
  {
   "cell_type": "markdown",
   "metadata": {},
   "source": [
    "##### c) Average Linkage Hierarchial Clustering"
   ]
  },
  {
   "cell_type": "markdown",
   "metadata": {},
   "source": [
    "Measures the average distance between all cluster pairs. The distance taken in this case was 'Euclidean distance'."
   ]
  },
  {
   "cell_type": "code",
   "execution_count": 44,
   "metadata": {
    "collapsed": true
   },
   "outputs": [],
   "source": [
    "averageLinkage = linkage(Xdata_new_d, 'average')"
   ]
  },
  {
   "cell_type": "markdown",
   "metadata": {},
   "source": [
    "We use Cophenetic Correlation Coefficient to compare actual pairwise distances of our samples to those created by average linkage hierarchical clustering."
   ]
  },
  {
   "cell_type": "code",
   "execution_count": 45,
   "metadata": {},
   "outputs": [
    {
     "name": "stdout",
     "output_type": "stream",
     "text": [
      " Cophenetic Correlation Coefficient  0.9880904720016523\n"
     ]
    }
   ],
   "source": [
    "caverage, coph_dists = cophenet(averageLinkage, pdist(Xdata_new_d))\n",
    "print(\" Cophenetic Correlation Coefficient \",caverage)"
   ]
  },
  {
   "cell_type": "markdown",
   "metadata": {},
   "source": [
    "The closer the value is to 1 the better the clustering preserves original distances\n",
    "\n",
    "Next, we proceed to plot the dendograms to view how the clusters were merged during the Average Linkage Hierarchial Clustering."
   ]
  },
  {
   "cell_type": "code",
   "execution_count": 46,
   "metadata": {},
   "outputs": [
    {
     "data": {
      "image/png": "[encoded data removed]",
      "text/plain": [
       "<matplotlib.figure.Figure at 0x2794b876dd8>"
      ]
     },
     "metadata": {},
     "output_type": "display_data"
    }
   ],
   "source": [
    "plt.figure(figsize=(10, 10))\n",
    "plt.title('Average Linkage Hierarchical Clustering Dendrogram')\n",
    "plt.xlabel('sample index')\n",
    "plt.ylabel('distance')\n",
    "dendrogram(\n",
    "    averageLinkage,\n",
    "    leaf_rotation=90.,  # rotates the x axis labels\n",
    "    leaf_font_size=8.,  # font size for the x axis labels\n",
    ")\n",
    "plt.show()"
   ]
  },
  {
   "cell_type": "markdown",
   "metadata": {},
   "source": [
    "**Conclusion :** From the dendogram we observe that there are around 3 clusters. However, we cannot clearly identify the clusters"
   ]
  },
  {
   "cell_type": "markdown",
   "metadata": {},
   "source": [
    "Among all three Hierarchial clustering techniques we observed that in Average Linkage Hierarchial Clustering the Cophenetic Correlation Coefficient is the highest. Hence, we proceed with plotting a truncated view of the dendrogram hoping we would be able to identify the clusters"
   ]
  },
  {
   "cell_type": "code",
   "execution_count": 47,
   "metadata": {},
   "outputs": [
    {
     "data": {
      "image/png": "[encoded data removed]",
      "text/plain": [
       "<matplotlib.figure.Figure at 0x2794b831e80>"
      ]
     },
     "metadata": {},
     "output_type": "display_data"
    }
   ],
   "source": [
    "plt.title(('Hierarchical Clustering Dendrogram (truncated)'))\n",
    "plt.xlabel('sample index')\n",
    "plt.ylabel('distance')\n",
    "dendrogram(\n",
    "    averageLinkage,\n",
    "    truncate_mode='lastp',  # show only the last p merged clusters\n",
    "    p=12,  # show only the last p merged clusters\n",
    "    show_leaf_counts=False,  # otherwise numbers in brackets are counts\n",
    "    leaf_rotation=90.,\n",
    "    leaf_font_size=12.,\n",
    "    show_contracted=True,  # to get a distribution impression in truncated branches\n",
    ")\n",
    "plt.show()"
   ]
  },
  {
   "cell_type": "markdown",
   "metadata": {},
   "source": [
    "**Conclusion :** From the truncated dendogram we observe that there are around 3 or 4 clusters. Let's try K-Means Clustering to evaluate whether we can find the optimal number of clusters."
   ]
  },
  {
   "cell_type": "markdown",
   "metadata": {},
   "source": [
    "#### K-Means Clustering"
   ]
  },
  {
   "cell_type": "markdown",
   "metadata": {},
   "source": [
    "In K-Means Clustering, the user specifies the number of clusters on which clustering is performed. But how do we know what is the optimal number of cluster. We can make use of the elbow method which measures the minimum distortion from the cluster centers as number of cluster increases. The point on the elbow plot where a \"knee\" is observed is considered as the optimal cluster."
   ]
  },
  {
   "cell_type": "code",
   "execution_count": 48,
   "metadata": {},
   "outputs": [
    {
     "data": {
      "image/png": "[encoded data removed]",
      "text/plain": [
       "<matplotlib.figure.Figure at 0x2794b8582b0>"
      ]
     },
     "metadata": {},
     "output_type": "display_data"
    }
   ],
   "source": [
    "#Reffered to https://stackoverflow.com/questions/49031951/python-elbow-chart-issue\n",
    "distortions = []\n",
    "K = range(1,15)\n",
    "for k in K:\n",
    "    kmeanModel = KMeans(n_clusters=k).fit(Xdata_new_d)\n",
    "    distortions.append(sum(np.min(cdist(Xdata_new_d , kmeanModel.cluster_centers_,'euclidean'), axis=1)) / Xdata_new_d.shape[0])\n",
    "plt.figure(figsize=(10,8))\n",
    "plt.plot(K, distortions,'bx-')\n",
    "plt.xlabel('k')\n",
    "plt.ylabel('Distortion')\n",
    "plt.title('The Elbow Method to find optimal k')\n",
    "plt.show()"
   ]
  },
  {
   "cell_type": "markdown",
   "metadata": {},
   "source": [
    "In the above plot, the knee is observed at 4. Hence, the optimal number of clusters is 4 which also corresponds to the type of clusters found in this dataset as mentioned on the KDD99 Cup Website for Network Intrusion dataset."
   ]
  },
  {
   "cell_type": "markdown",
   "metadata": {},
   "source": [
    "##### Dimensionality Reduction of data to view the clusters"
   ]
  },
  {
   "cell_type": "markdown",
   "metadata": {},
   "source": [
    "We start off with 16 features for unsupervised learning. Trying to visualize all these 16 features using the cluster labels would be difficult. Therefore, we performed a dimensionality reduction using TSNE to reduce the data into 2-dimensions."
   ]
  },
  {
   "cell_type": "code",
   "execution_count": 49,
   "metadata": {},
   "outputs": [
    {
     "data": {
      "image/png": "[encoded data removed]",
      "text/plain": [
       "<matplotlib.figure.Figure at 0x2794bd72710>"
      ]
     },
     "metadata": {},
     "output_type": "display_data"
    }
   ],
   "source": [
    "tsne = TSNE(n_components=2, random_state=0)\n",
    "Xdata_tsne2d = tsne.fit_transform(Xdata_new_d)\n",
    "plt.figure(figsize=(10,8))\n",
    "plt.scatter(Xdata_tsne2d[:, 0], Xdata_tsne2d[:, 1])\n",
    "plt.axis('equal');"
   ]
  },
  {
   "cell_type": "markdown",
   "metadata": {},
   "source": [
    "The next step is to view the clusters in the data using the cluster labels"
   ]
  },
  {
   "cell_type": "code",
   "execution_count": 50,
   "metadata": {},
   "outputs": [
    {
     "data": {
      "text/plain": [
       "(-23.49042262894278, 39.98105754715567, -30.953103028368293, 20.96119972331459)"
      ]
     },
     "execution_count": 50,
     "metadata": {},
     "output_type": "execute_result"
    },
    {
     "data": {
      "image/png": "[encoded data removed]",
      "text/plain": [
       "<matplotlib.figure.Figure at 0x2794af34828>"
      ]
     },
     "metadata": {},
     "output_type": "display_data"
    }
   ],
   "source": [
    "km = KMeans(n_clusters=4)\n",
    "km.fit(Xdata_new_d )\n",
    "kmeans_cluster_assignments = km.predict(Xdata_new_d)\n",
    "plt.figure(figsize=(10,8))\n",
    "plt.scatter(Xdata_tsne2d[:, 0], Xdata_tsne2d[:, 1],\n",
    "            c=kmeans_cluster_assignments,\n",
    "            cmap='Set3')\n",
    "plt.axis('equal')"
   ]
  },
  {
   "cell_type": "markdown",
   "metadata": {},
   "source": [
    "Since we had only 300 reccords the TSNE plot looks scattered when colored with the 4 cluster labels."
   ]
  },
  {
   "cell_type": "markdown",
   "metadata": {},
   "source": [
    "#### Viewing the different cluster sizes"
   ]
  },
  {
   "cell_type": "markdown",
   "metadata": {},
   "source": [
    "We observe that there are four clusters \n",
    "  \n",
    "**Cluster 0 :** 100 records  \n",
    "**Cluster 1 :** 67 records  \n",
    "**Cluster 2 :** 33 records  \n",
    "**Cluster 3 :** 100 records  \n",
    "\n",
    "These attacks correspond to the 4 types of intrusions reported on the KDD99 Network Intrusion Network Dataset <cite data-cite=\"kddcup99\">(kddcup99, 1999)</cite>    \n",
    "   \n",
    "\n",
    "\"DOS: denial-of-service, e.g. syn flood;  \n",
    "R2L: unauthorized access from a remote machine, e.g. guessing password;  \n",
    "U2R:  unauthorized access to local superuser (root) privileges, e.g., various ``buffer overflow'' attacks;  \n",
    "Probing: surveillance and other probing, e.g., port scanning.\"[2]    \n"
   ]
  },
  {
   "cell_type": "markdown",
   "metadata": {
    "collapsed": true
   },
   "source": [
    "######  Cluster 0"
   ]
  },
  {
   "cell_type": "code",
   "execution_count": 51,
   "metadata": {},
   "outputs": [
    {
     "data": {
      "text/plain": [
       "100"
      ]
     },
     "execution_count": 51,
     "metadata": {},
     "output_type": "execute_result"
    }
   ],
   "source": [
    "len(network_data_intrusion[km.labels_ == 0])"
   ]
  },
  {
   "cell_type": "code",
   "execution_count": 52,
   "metadata": {},
   "outputs": [
    {
     "data": {
      "text/html": [
       "<div>\n",
       "<style scoped>\n",
       "    .dataframe tbody tr th:only-of-type {\n",
       "        vertical-align: middle;\n",
       "    }\n",
       "\n",
       "    .dataframe tbody tr th {\n",
       "        vertical-align: top;\n",
       "    }\n",
       "\n",
       "    .dataframe thead th {\n",
       "        text-align: right;\n",
       "    }\n",
       "</style>\n",
       "<table border=\"1\" class=\"dataframe\">\n",
       "  <thead>\n",
       "    <tr style=\"text-align: right;\">\n",
       "      <th></th>\n",
       "      <th>duration</th>\n",
       "      <th>src_bytes</th>\n",
       "      <th>dst_bytes</th>\n",
       "      <th>hot</th>\n",
       "      <th>logged_in</th>\n",
       "      <th>su_attempted</th>\n",
       "      <th>num_root</th>\n",
       "      <th>is_guest_login</th>\n",
       "      <th>protocol_type_tcp</th>\n",
       "      <th>protocol_type_udp</th>\n",
       "      <th>service_ftp</th>\n",
       "      <th>service_ftp_data</th>\n",
       "      <th>service_http</th>\n",
       "      <th>service_private</th>\n",
       "      <th>flag_RSTR</th>\n",
       "      <th>flag_S0</th>\n",
       "      <th>flag_S3</th>\n",
       "      <th>flag_SF</th>\n",
       "    </tr>\n",
       "  </thead>\n",
       "  <tbody>\n",
       "    <tr>\n",
       "      <th>190</th>\n",
       "      <td>118.117372</td>\n",
       "      <td>0</td>\n",
       "      <td>0</td>\n",
       "      <td>0</td>\n",
       "      <td>0</td>\n",
       "      <td>0</td>\n",
       "      <td>0</td>\n",
       "      <td>0</td>\n",
       "      <td>1</td>\n",
       "      <td>0</td>\n",
       "      <td>0</td>\n",
       "      <td>0</td>\n",
       "      <td>1</td>\n",
       "      <td>0</td>\n",
       "      <td>0</td>\n",
       "      <td>1</td>\n",
       "      <td>0</td>\n",
       "      <td>0</td>\n",
       "    </tr>\n",
       "    <tr>\n",
       "      <th>210</th>\n",
       "      <td>902.000000</td>\n",
       "      <td>56504</td>\n",
       "      <td>0</td>\n",
       "      <td>0</td>\n",
       "      <td>1</td>\n",
       "      <td>0</td>\n",
       "      <td>0</td>\n",
       "      <td>0</td>\n",
       "      <td>1</td>\n",
       "      <td>0</td>\n",
       "      <td>0</td>\n",
       "      <td>0</td>\n",
       "      <td>1</td>\n",
       "      <td>0</td>\n",
       "      <td>1</td>\n",
       "      <td>0</td>\n",
       "      <td>0</td>\n",
       "      <td>0</td>\n",
       "    </tr>\n",
       "    <tr>\n",
       "      <th>212</th>\n",
       "      <td>2065.000000</td>\n",
       "      <td>56504</td>\n",
       "      <td>0</td>\n",
       "      <td>0</td>\n",
       "      <td>1</td>\n",
       "      <td>0</td>\n",
       "      <td>0</td>\n",
       "      <td>0</td>\n",
       "      <td>1</td>\n",
       "      <td>0</td>\n",
       "      <td>0</td>\n",
       "      <td>0</td>\n",
       "      <td>1</td>\n",
       "      <td>0</td>\n",
       "      <td>1</td>\n",
       "      <td>0</td>\n",
       "      <td>0</td>\n",
       "      <td>0</td>\n",
       "    </tr>\n",
       "    <tr>\n",
       "      <th>234</th>\n",
       "      <td>118.117372</td>\n",
       "      <td>0</td>\n",
       "      <td>0</td>\n",
       "      <td>0</td>\n",
       "      <td>0</td>\n",
       "      <td>0</td>\n",
       "      <td>0</td>\n",
       "      <td>0</td>\n",
       "      <td>1</td>\n",
       "      <td>0</td>\n",
       "      <td>0</td>\n",
       "      <td>0</td>\n",
       "      <td>1</td>\n",
       "      <td>0</td>\n",
       "      <td>0</td>\n",
       "      <td>1</td>\n",
       "      <td>0</td>\n",
       "      <td>0</td>\n",
       "    </tr>\n",
       "    <tr>\n",
       "      <th>255</th>\n",
       "      <td>896.000000</td>\n",
       "      <td>55744</td>\n",
       "      <td>0</td>\n",
       "      <td>0</td>\n",
       "      <td>1</td>\n",
       "      <td>0</td>\n",
       "      <td>0</td>\n",
       "      <td>0</td>\n",
       "      <td>1</td>\n",
       "      <td>0</td>\n",
       "      <td>0</td>\n",
       "      <td>0</td>\n",
       "      <td>1</td>\n",
       "      <td>0</td>\n",
       "      <td>1</td>\n",
       "      <td>0</td>\n",
       "      <td>0</td>\n",
       "      <td>0</td>\n",
       "    </tr>\n",
       "  </tbody>\n",
       "</table>\n",
       "</div>"
      ],
      "text/plain": [
       "        duration  src_bytes  dst_bytes  hot  logged_in  su_attempted  \\\n",
       "190   118.117372          0          0    0          0             0   \n",
       "210   902.000000      56504          0    0          1             0   \n",
       "212  2065.000000      56504          0    0          1             0   \n",
       "234   118.117372          0          0    0          0             0   \n",
       "255   896.000000      55744          0    0          1             0   \n",
       "\n",
       "     num_root  is_guest_login  protocol_type_tcp  protocol_type_udp  \\\n",
       "190         0               0                  1                  0   \n",
       "210         0               0                  1                  0   \n",
       "212         0               0                  1                  0   \n",
       "234         0               0                  1                  0   \n",
       "255         0               0                  1                  0   \n",
       "\n",
       "     service_ftp  service_ftp_data  service_http  service_private  flag_RSTR  \\\n",
       "190            0                 0             1                0          0   \n",
       "210            0                 0             1                0          1   \n",
       "212            0                 0             1                0          1   \n",
       "234            0                 0             1                0          0   \n",
       "255            0                 0             1                0          1   \n",
       "\n",
       "     flag_S0  flag_S3  flag_SF  \n",
       "190        1        0        0  \n",
       "210        0        0        0  \n",
       "212        0        0        0  \n",
       "234        1        0        0  \n",
       "255        0        0        0  "
      ]
     },
     "execution_count": 52,
     "metadata": {},
     "output_type": "execute_result"
    }
   ],
   "source": [
    "network_data_intrusion[km.labels_ == 0].head()"
   ]
  },
  {
   "cell_type": "markdown",
   "metadata": {},
   "source": [
    "######  Cluster 1"
   ]
  },
  {
   "cell_type": "code",
   "execution_count": 53,
   "metadata": {},
   "outputs": [
    {
     "data": {
      "text/plain": [
       "67"
      ]
     },
     "execution_count": 53,
     "metadata": {},
     "output_type": "execute_result"
    }
   ],
   "source": [
    "len(network_data_intrusion[km.labels_ == 1])"
   ]
  },
  {
   "cell_type": "code",
   "execution_count": 54,
   "metadata": {},
   "outputs": [
    {
     "data": {
      "text/html": [
       "<div>\n",
       "<style scoped>\n",
       "    .dataframe tbody tr th:only-of-type {\n",
       "        vertical-align: middle;\n",
       "    }\n",
       "\n",
       "    .dataframe tbody tr th {\n",
       "        vertical-align: top;\n",
       "    }\n",
       "\n",
       "    .dataframe thead th {\n",
       "        text-align: right;\n",
       "    }\n",
       "</style>\n",
       "<table border=\"1\" class=\"dataframe\">\n",
       "  <thead>\n",
       "    <tr style=\"text-align: right;\">\n",
       "      <th></th>\n",
       "      <th>duration</th>\n",
       "      <th>src_bytes</th>\n",
       "      <th>dst_bytes</th>\n",
       "      <th>hot</th>\n",
       "      <th>logged_in</th>\n",
       "      <th>su_attempted</th>\n",
       "      <th>num_root</th>\n",
       "      <th>is_guest_login</th>\n",
       "      <th>protocol_type_tcp</th>\n",
       "      <th>protocol_type_udp</th>\n",
       "      <th>service_ftp</th>\n",
       "      <th>service_ftp_data</th>\n",
       "      <th>service_http</th>\n",
       "      <th>service_private</th>\n",
       "      <th>flag_RSTR</th>\n",
       "      <th>flag_S0</th>\n",
       "      <th>flag_S3</th>\n",
       "      <th>flag_SF</th>\n",
       "    </tr>\n",
       "  </thead>\n",
       "  <tbody>\n",
       "    <tr>\n",
       "      <th>1499</th>\n",
       "      <td>118.117372</td>\n",
       "      <td>12</td>\n",
       "      <td>0</td>\n",
       "      <td>0</td>\n",
       "      <td>0</td>\n",
       "      <td>0</td>\n",
       "      <td>0</td>\n",
       "      <td>0</td>\n",
       "      <td>1</td>\n",
       "      <td>0</td>\n",
       "      <td>0</td>\n",
       "      <td>1</td>\n",
       "      <td>0</td>\n",
       "      <td>0</td>\n",
       "      <td>0</td>\n",
       "      <td>0</td>\n",
       "      <td>0</td>\n",
       "      <td>1</td>\n",
       "    </tr>\n",
       "    <tr>\n",
       "      <th>1566</th>\n",
       "      <td>118.117372</td>\n",
       "      <td>12</td>\n",
       "      <td>0</td>\n",
       "      <td>0</td>\n",
       "      <td>0</td>\n",
       "      <td>0</td>\n",
       "      <td>0</td>\n",
       "      <td>0</td>\n",
       "      <td>1</td>\n",
       "      <td>0</td>\n",
       "      <td>0</td>\n",
       "      <td>1</td>\n",
       "      <td>0</td>\n",
       "      <td>0</td>\n",
       "      <td>0</td>\n",
       "      <td>0</td>\n",
       "      <td>0</td>\n",
       "      <td>1</td>\n",
       "    </tr>\n",
       "    <tr>\n",
       "      <th>1578</th>\n",
       "      <td>280.000000</td>\n",
       "      <td>283618</td>\n",
       "      <td>0</td>\n",
       "      <td>0</td>\n",
       "      <td>0</td>\n",
       "      <td>0</td>\n",
       "      <td>0</td>\n",
       "      <td>0</td>\n",
       "      <td>1</td>\n",
       "      <td>0</td>\n",
       "      <td>0</td>\n",
       "      <td>1</td>\n",
       "      <td>0</td>\n",
       "      <td>0</td>\n",
       "      <td>0</td>\n",
       "      <td>0</td>\n",
       "      <td>0</td>\n",
       "      <td>1</td>\n",
       "    </tr>\n",
       "    <tr>\n",
       "      <th>1586</th>\n",
       "      <td>280.000000</td>\n",
       "      <td>283618</td>\n",
       "      <td>0</td>\n",
       "      <td>0</td>\n",
       "      <td>0</td>\n",
       "      <td>0</td>\n",
       "      <td>0</td>\n",
       "      <td>0</td>\n",
       "      <td>1</td>\n",
       "      <td>0</td>\n",
       "      <td>0</td>\n",
       "      <td>1</td>\n",
       "      <td>0</td>\n",
       "      <td>0</td>\n",
       "      <td>0</td>\n",
       "      <td>0</td>\n",
       "      <td>0</td>\n",
       "      <td>1</td>\n",
       "    </tr>\n",
       "    <tr>\n",
       "      <th>1602</th>\n",
       "      <td>118.117372</td>\n",
       "      <td>12</td>\n",
       "      <td>0</td>\n",
       "      <td>0</td>\n",
       "      <td>0</td>\n",
       "      <td>0</td>\n",
       "      <td>0</td>\n",
       "      <td>0</td>\n",
       "      <td>1</td>\n",
       "      <td>0</td>\n",
       "      <td>0</td>\n",
       "      <td>1</td>\n",
       "      <td>0</td>\n",
       "      <td>0</td>\n",
       "      <td>0</td>\n",
       "      <td>0</td>\n",
       "      <td>0</td>\n",
       "      <td>1</td>\n",
       "    </tr>\n",
       "  </tbody>\n",
       "</table>\n",
       "</div>"
      ],
      "text/plain": [
       "        duration  src_bytes  dst_bytes  hot  logged_in  su_attempted  \\\n",
       "1499  118.117372         12          0    0          0             0   \n",
       "1566  118.117372         12          0    0          0             0   \n",
       "1578  280.000000     283618          0    0          0             0   \n",
       "1586  280.000000     283618          0    0          0             0   \n",
       "1602  118.117372         12          0    0          0             0   \n",
       "\n",
       "      num_root  is_guest_login  protocol_type_tcp  protocol_type_udp  \\\n",
       "1499         0               0                  1                  0   \n",
       "1566         0               0                  1                  0   \n",
       "1578         0               0                  1                  0   \n",
       "1586         0               0                  1                  0   \n",
       "1602         0               0                  1                  0   \n",
       "\n",
       "      service_ftp  service_ftp_data  service_http  service_private  flag_RSTR  \\\n",
       "1499            0                 1             0                0          0   \n",
       "1566            0                 1             0                0          0   \n",
       "1578            0                 1             0                0          0   \n",
       "1586            0                 1             0                0          0   \n",
       "1602            0                 1             0                0          0   \n",
       "\n",
       "      flag_S0  flag_S3  flag_SF  \n",
       "1499        0        0        1  \n",
       "1566        0        0        1  \n",
       "1578        0        0        1  \n",
       "1586        0        0        1  \n",
       "1602        0        0        1  "
      ]
     },
     "execution_count": 54,
     "metadata": {},
     "output_type": "execute_result"
    }
   ],
   "source": [
    "network_data_intrusion[km.labels_ == 1].head()"
   ]
  },
  {
   "cell_type": "markdown",
   "metadata": {},
   "source": [
    "######  Cluster 2"
   ]
  },
  {
   "cell_type": "code",
   "execution_count": 55,
   "metadata": {},
   "outputs": [
    {
     "data": {
      "text/plain": [
       "33"
      ]
     },
     "execution_count": 55,
     "metadata": {},
     "output_type": "execute_result"
    }
   ],
   "source": [
    "len(network_data_intrusion[km.labels_ == 2])"
   ]
  },
  {
   "cell_type": "code",
   "execution_count": 56,
   "metadata": {},
   "outputs": [
    {
     "data": {
      "text/html": [
       "<div>\n",
       "<style scoped>\n",
       "    .dataframe tbody tr th:only-of-type {\n",
       "        vertical-align: middle;\n",
       "    }\n",
       "\n",
       "    .dataframe tbody tr th {\n",
       "        vertical-align: top;\n",
       "    }\n",
       "\n",
       "    .dataframe thead th {\n",
       "        text-align: right;\n",
       "    }\n",
       "</style>\n",
       "<table border=\"1\" class=\"dataframe\">\n",
       "  <thead>\n",
       "    <tr style=\"text-align: right;\">\n",
       "      <th></th>\n",
       "      <th>duration</th>\n",
       "      <th>src_bytes</th>\n",
       "      <th>dst_bytes</th>\n",
       "      <th>hot</th>\n",
       "      <th>logged_in</th>\n",
       "      <th>su_attempted</th>\n",
       "      <th>num_root</th>\n",
       "      <th>is_guest_login</th>\n",
       "      <th>protocol_type_tcp</th>\n",
       "      <th>protocol_type_udp</th>\n",
       "      <th>service_ftp</th>\n",
       "      <th>service_ftp_data</th>\n",
       "      <th>service_http</th>\n",
       "      <th>service_private</th>\n",
       "      <th>flag_RSTR</th>\n",
       "      <th>flag_S0</th>\n",
       "      <th>flag_S3</th>\n",
       "      <th>flag_SF</th>\n",
       "    </tr>\n",
       "  </thead>\n",
       "  <tbody>\n",
       "    <tr>\n",
       "      <th>1557</th>\n",
       "      <td>282.0</td>\n",
       "      <td>160</td>\n",
       "      <td>595</td>\n",
       "      <td>2</td>\n",
       "      <td>1</td>\n",
       "      <td>0</td>\n",
       "      <td>0</td>\n",
       "      <td>1</td>\n",
       "      <td>1</td>\n",
       "      <td>0</td>\n",
       "      <td>1</td>\n",
       "      <td>0</td>\n",
       "      <td>0</td>\n",
       "      <td>0</td>\n",
       "      <td>0</td>\n",
       "      <td>0</td>\n",
       "      <td>0</td>\n",
       "      <td>1</td>\n",
       "    </tr>\n",
       "    <tr>\n",
       "      <th>1574</th>\n",
       "      <td>282.0</td>\n",
       "      <td>162</td>\n",
       "      <td>597</td>\n",
       "      <td>2</td>\n",
       "      <td>1</td>\n",
       "      <td>0</td>\n",
       "      <td>0</td>\n",
       "      <td>1</td>\n",
       "      <td>1</td>\n",
       "      <td>0</td>\n",
       "      <td>1</td>\n",
       "      <td>0</td>\n",
       "      <td>0</td>\n",
       "      <td>0</td>\n",
       "      <td>0</td>\n",
       "      <td>0</td>\n",
       "      <td>0</td>\n",
       "      <td>1</td>\n",
       "    </tr>\n",
       "    <tr>\n",
       "      <th>1583</th>\n",
       "      <td>282.0</td>\n",
       "      <td>158</td>\n",
       "      <td>595</td>\n",
       "      <td>2</td>\n",
       "      <td>1</td>\n",
       "      <td>0</td>\n",
       "      <td>0</td>\n",
       "      <td>1</td>\n",
       "      <td>1</td>\n",
       "      <td>0</td>\n",
       "      <td>1</td>\n",
       "      <td>0</td>\n",
       "      <td>0</td>\n",
       "      <td>0</td>\n",
       "      <td>0</td>\n",
       "      <td>0</td>\n",
       "      <td>0</td>\n",
       "      <td>1</td>\n",
       "    </tr>\n",
       "    <tr>\n",
       "      <th>1585</th>\n",
       "      <td>282.0</td>\n",
       "      <td>160</td>\n",
       "      <td>599</td>\n",
       "      <td>2</td>\n",
       "      <td>1</td>\n",
       "      <td>0</td>\n",
       "      <td>0</td>\n",
       "      <td>1</td>\n",
       "      <td>1</td>\n",
       "      <td>0</td>\n",
       "      <td>1</td>\n",
       "      <td>0</td>\n",
       "      <td>0</td>\n",
       "      <td>0</td>\n",
       "      <td>0</td>\n",
       "      <td>0</td>\n",
       "      <td>0</td>\n",
       "      <td>1</td>\n",
       "    </tr>\n",
       "    <tr>\n",
       "      <th>1592</th>\n",
       "      <td>282.0</td>\n",
       "      <td>164</td>\n",
       "      <td>601</td>\n",
       "      <td>2</td>\n",
       "      <td>1</td>\n",
       "      <td>0</td>\n",
       "      <td>0</td>\n",
       "      <td>1</td>\n",
       "      <td>1</td>\n",
       "      <td>0</td>\n",
       "      <td>1</td>\n",
       "      <td>0</td>\n",
       "      <td>0</td>\n",
       "      <td>0</td>\n",
       "      <td>0</td>\n",
       "      <td>0</td>\n",
       "      <td>0</td>\n",
       "      <td>1</td>\n",
       "    </tr>\n",
       "  </tbody>\n",
       "</table>\n",
       "</div>"
      ],
      "text/plain": [
       "      duration  src_bytes  dst_bytes  hot  logged_in  su_attempted  num_root  \\\n",
       "1557     282.0        160        595    2          1             0         0   \n",
       "1574     282.0        162        597    2          1             0         0   \n",
       "1583     282.0        158        595    2          1             0         0   \n",
       "1585     282.0        160        599    2          1             0         0   \n",
       "1592     282.0        164        601    2          1             0         0   \n",
       "\n",
       "      is_guest_login  protocol_type_tcp  protocol_type_udp  service_ftp  \\\n",
       "1557               1                  1                  0            1   \n",
       "1574               1                  1                  0            1   \n",
       "1583               1                  1                  0            1   \n",
       "1585               1                  1                  0            1   \n",
       "1592               1                  1                  0            1   \n",
       "\n",
       "      service_ftp_data  service_http  service_private  flag_RSTR  flag_S0  \\\n",
       "1557                 0             0                0          0        0   \n",
       "1574                 0             0                0          0        0   \n",
       "1583                 0             0                0          0        0   \n",
       "1585                 0             0                0          0        0   \n",
       "1592                 0             0                0          0        0   \n",
       "\n",
       "      flag_S3  flag_SF  \n",
       "1557        0        1  \n",
       "1574        0        1  \n",
       "1583        0        1  \n",
       "1585        0        1  \n",
       "1592        0        1  "
      ]
     },
     "execution_count": 56,
     "metadata": {},
     "output_type": "execute_result"
    }
   ],
   "source": [
    "network_data_intrusion[km.labels_ == 2].head()"
   ]
  },
  {
   "cell_type": "markdown",
   "metadata": {},
   "source": [
    "######  Cluster 3"
   ]
  },
  {
   "cell_type": "code",
   "execution_count": 57,
   "metadata": {},
   "outputs": [
    {
     "data": {
      "text/plain": [
       "100"
      ]
     },
     "execution_count": 57,
     "metadata": {},
     "output_type": "execute_result"
    }
   ],
   "source": [
    "len(network_data_intrusion[km.labels_ == 3])"
   ]
  },
  {
   "cell_type": "code",
   "execution_count": 58,
   "metadata": {},
   "outputs": [
    {
     "data": {
      "text/html": [
       "<div>\n",
       "<style scoped>\n",
       "    .dataframe tbody tr th:only-of-type {\n",
       "        vertical-align: middle;\n",
       "    }\n",
       "\n",
       "    .dataframe tbody tr th {\n",
       "        vertical-align: top;\n",
       "    }\n",
       "\n",
       "    .dataframe thead th {\n",
       "        text-align: right;\n",
       "    }\n",
       "</style>\n",
       "<table border=\"1\" class=\"dataframe\">\n",
       "  <thead>\n",
       "    <tr style=\"text-align: right;\">\n",
       "      <th></th>\n",
       "      <th>duration</th>\n",
       "      <th>src_bytes</th>\n",
       "      <th>dst_bytes</th>\n",
       "      <th>hot</th>\n",
       "      <th>logged_in</th>\n",
       "      <th>su_attempted</th>\n",
       "      <th>num_root</th>\n",
       "      <th>is_guest_login</th>\n",
       "      <th>protocol_type_tcp</th>\n",
       "      <th>protocol_type_udp</th>\n",
       "      <th>service_ftp</th>\n",
       "      <th>service_ftp_data</th>\n",
       "      <th>service_http</th>\n",
       "      <th>service_private</th>\n",
       "      <th>flag_RSTR</th>\n",
       "      <th>flag_S0</th>\n",
       "      <th>flag_S3</th>\n",
       "      <th>flag_SF</th>\n",
       "    </tr>\n",
       "  </thead>\n",
       "  <tbody>\n",
       "    <tr>\n",
       "      <th>15</th>\n",
       "      <td>118.117372</td>\n",
       "      <td>105</td>\n",
       "      <td>146</td>\n",
       "      <td>0</td>\n",
       "      <td>0</td>\n",
       "      <td>0</td>\n",
       "      <td>0</td>\n",
       "      <td>0</td>\n",
       "      <td>0</td>\n",
       "      <td>1</td>\n",
       "      <td>0</td>\n",
       "      <td>0</td>\n",
       "      <td>0</td>\n",
       "      <td>1</td>\n",
       "      <td>0</td>\n",
       "      <td>0</td>\n",
       "      <td>0</td>\n",
       "      <td>1</td>\n",
       "    </tr>\n",
       "    <tr>\n",
       "      <th>67</th>\n",
       "      <td>118.117372</td>\n",
       "      <td>105</td>\n",
       "      <td>105</td>\n",
       "      <td>0</td>\n",
       "      <td>0</td>\n",
       "      <td>0</td>\n",
       "      <td>0</td>\n",
       "      <td>0</td>\n",
       "      <td>0</td>\n",
       "      <td>1</td>\n",
       "      <td>0</td>\n",
       "      <td>0</td>\n",
       "      <td>0</td>\n",
       "      <td>1</td>\n",
       "      <td>0</td>\n",
       "      <td>0</td>\n",
       "      <td>0</td>\n",
       "      <td>1</td>\n",
       "    </tr>\n",
       "    <tr>\n",
       "      <th>72</th>\n",
       "      <td>118.117372</td>\n",
       "      <td>105</td>\n",
       "      <td>146</td>\n",
       "      <td>0</td>\n",
       "      <td>0</td>\n",
       "      <td>0</td>\n",
       "      <td>0</td>\n",
       "      <td>0</td>\n",
       "      <td>0</td>\n",
       "      <td>1</td>\n",
       "      <td>0</td>\n",
       "      <td>0</td>\n",
       "      <td>0</td>\n",
       "      <td>1</td>\n",
       "      <td>0</td>\n",
       "      <td>0</td>\n",
       "      <td>0</td>\n",
       "      <td>1</td>\n",
       "    </tr>\n",
       "    <tr>\n",
       "      <th>75</th>\n",
       "      <td>118.117372</td>\n",
       "      <td>105</td>\n",
       "      <td>146</td>\n",
       "      <td>0</td>\n",
       "      <td>0</td>\n",
       "      <td>0</td>\n",
       "      <td>0</td>\n",
       "      <td>0</td>\n",
       "      <td>0</td>\n",
       "      <td>1</td>\n",
       "      <td>0</td>\n",
       "      <td>0</td>\n",
       "      <td>0</td>\n",
       "      <td>1</td>\n",
       "      <td>0</td>\n",
       "      <td>0</td>\n",
       "      <td>0</td>\n",
       "      <td>1</td>\n",
       "    </tr>\n",
       "    <tr>\n",
       "      <th>81</th>\n",
       "      <td>118.117372</td>\n",
       "      <td>105</td>\n",
       "      <td>147</td>\n",
       "      <td>0</td>\n",
       "      <td>0</td>\n",
       "      <td>0</td>\n",
       "      <td>0</td>\n",
       "      <td>0</td>\n",
       "      <td>0</td>\n",
       "      <td>1</td>\n",
       "      <td>0</td>\n",
       "      <td>0</td>\n",
       "      <td>0</td>\n",
       "      <td>1</td>\n",
       "      <td>0</td>\n",
       "      <td>0</td>\n",
       "      <td>0</td>\n",
       "      <td>1</td>\n",
       "    </tr>\n",
       "  </tbody>\n",
       "</table>\n",
       "</div>"
      ],
      "text/plain": [
       "      duration  src_bytes  dst_bytes  hot  logged_in  su_attempted  num_root  \\\n",
       "15  118.117372        105        146    0          0             0         0   \n",
       "67  118.117372        105        105    0          0             0         0   \n",
       "72  118.117372        105        146    0          0             0         0   \n",
       "75  118.117372        105        146    0          0             0         0   \n",
       "81  118.117372        105        147    0          0             0         0   \n",
       "\n",
       "    is_guest_login  protocol_type_tcp  protocol_type_udp  service_ftp  \\\n",
       "15               0                  0                  1            0   \n",
       "67               0                  0                  1            0   \n",
       "72               0                  0                  1            0   \n",
       "75               0                  0                  1            0   \n",
       "81               0                  0                  1            0   \n",
       "\n",
       "    service_ftp_data  service_http  service_private  flag_RSTR  flag_S0  \\\n",
       "15                 0             0                1          0        0   \n",
       "67                 0             0                1          0        0   \n",
       "72                 0             0                1          0        0   \n",
       "75                 0             0                1          0        0   \n",
       "81                 0             0                1          0        0   \n",
       "\n",
       "    flag_S3  flag_SF  \n",
       "15        0        1  \n",
       "67        0        1  \n",
       "72        0        1  \n",
       "75        0        1  \n",
       "81        0        1  "
      ]
     },
     "execution_count": 58,
     "metadata": {},
     "output_type": "execute_result"
    }
   ],
   "source": [
    "network_data_intrusion[km.labels_ == 3].head()"
   ]
  },
  {
   "cell_type": "markdown",
   "metadata": {},
   "source": [
    "## Conclusion"
   ]
  },
  {
   "cell_type": "markdown",
   "metadata": {
    "collapsed": true
   },
   "source": [
    "Based on our analysis we found that   \n",
    "  \n",
    "a) Ensemble methods(Random Forests and Adaboost) performed better than Weak Learners(Logistic Regression and Naive Bayes).   \n",
    "  \n",
    "b) Overall, Random Forests and Adaboost achieved higher accuracy, F1-score, ROC and PR scores.  \n",
    "  \n",
    "c) In Unsupervised Learning, K-Means showed us that there were 4 clusters in the data which closely matched the ones mentioned on the KDDcup 99 website. Out of 300 intrusion reccords 100 belonged to cluster 0, 67 belonged to cluster 1, 33 belonged to cluster 2 and 100 belonged to cluster 3.  "
   ]
  },
  {
   "cell_type": "markdown",
   "metadata": {},
   "source": [
    "## Next Steps"
   ]
  },
  {
   "cell_type": "markdown",
   "metadata": {},
   "source": [
    "Given the timeframe of the project we could identify the number of clusters.   \n",
    "  \n",
    "However, as a next step we do see that given the domain knowledge on how a network operates we could potentially map these clusters found into the different types of attacks(DOS, R2L, U2R, Probing) based on respective flags.  \n",
    "  \n",
    "Additionally, we also feel a large dataset of intrusions combined with feature engineering would help us to clearly distinguish and map the different types of network attacks. "
   ]
  },
  {
   "cell_type": "markdown",
   "metadata": {},
   "source": [
    "## References"
   ]
  },
  {
   "cell_type": "markdown",
   "metadata": {},
   "source": [
    "1) Domain knowledge: https://simplyml.com/machine-learning-for-network-anomaly-detection/   \n",
    "2) KDDcup 99: http://kdd.ics.uci.edu/databases/kddcup99/task.html  \n",
    "3) Hierarchial Clustering: https://joernhees.de/blog/2015/08/26/scipy-hierarchical-clustering-and-dendrogram-tutorial/  \n",
    "4) Cross Validtion from UDA class: https://gist.github.com/emaadmanzoor/0ba78a2920ea0858b54942eff8b08820   \n",
    "5) One-Hot Encoding: https://github.com/jihoon1990/Loan_Default_Prediction/blob/master/Loan_Default_Prediction.ipynb  \n",
    "6) ROC sklearn: http://scikit-learn.org/stable/modules/generated/sklearn.metrics.roc_curve.html  \n",
    "7) Precision Recall sklearn: http://scikit-learn.org/stable/auto_examples/model_selection/plot_precision_recall.html  \n",
    "8) Logistic Regression sklearn: http://scikit-learn.org/stable/modules/generated/sklearn.linear_model.LogisticRegression.html   \n",
    "9) Naive Bayes sklearn:  http://scikit-learn.org/stable/modules/naive_bayes.html  \n",
    "10) Random Forests sklearn: http://scikit-learn.org/stable/modules/generated/sklearn.ensemble.RandomForestClassifier.html  \n",
    "11) Adaboost sklearn: http://scikit-learn.org/stable/modules/generated/sklearn.ensemble.AdaBoostClassifier.html    \n",
    "12) Datamining Course Projects:  http://www.andrew.cmu.edu/user/achoulde/95791/lectures/lecture05/project_list.html  \n",
    "13) Lecture notes from Datamining Course:  http://www.andrew.cmu.edu/user/achoulde/95791/  \n",
    "14) Lecture notes from Machine Learning Course : http://www.andrew.cmu.edu/user/lakoglu/courses/95828/index.htm"
   ]
  }
 ],
 "metadata": {
  "kernelspec": {
   "display_name": "Python 3",
   "language": "python",
   "name": "python3"
  },
  "language_info": {
   "codemirror_mode": {
    "name": "ipython",
    "version": 3
   },
   "file_extension": ".py",
   "mimetype": "text/x-python",
   "name": "python",
   "nbconvert_exporter": "python",
   "pygments_lexer": "ipython3",
   "version": "3.6.4"
  },
  "toc": {
   "nav_menu": {},
   "number_sections": true,
   "sideBar": true,
   "skip_h1_title": false,
   "title_cell": "Table of Contents",
   "title_sidebar": "Contents",
   "toc_cell": true,
   "toc_position": {
    "height": "calc(100% - 180px)",
    "left": "10px",
    "top": "150px",
    "width": "307px"
   },
   "toc_section_display": true,
   "toc_window_display": false
  },
  "varInspector": {
   "cols": {
    "lenName": 16,
    "lenType": 16,
    "lenVar": 40
   },
   "kernels_config": {
    "python": {
     "delete_cmd_postfix": "",
     "delete_cmd_prefix": "del ",
     "library": "var_list.py",
     "varRefreshCmd": "print(var_dic_list())"
    },
    "r": {
     "delete_cmd_postfix": ") ",
     "delete_cmd_prefix": "rm(",
     "library": "var_list.r",
     "varRefreshCmd": "cat(var_dic_list()) "
    }
   },
   "types_to_exclude": [
    "module",
    "function",
    "builtin_function_or_method",
    "instance",
    "_Feature"
   ],
   "window_display": false
  }
 },
 "nbformat": 4,
 "nbformat_minor": 2
}
